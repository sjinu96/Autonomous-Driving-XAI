{
 "cells": [
  {
   "cell_type": "code",
   "execution_count": 12,
   "id": "f401441f",
   "metadata": {},
   "outputs": [],
   "source": [
    "import os\n",
    "from glob import glob\n",
    "import shutil\n",
    "import matplotlib.pyplot as plt\n",
    "from glob import glob\n",
    "from PIL import Image\n"
   ]
  },
  {
   "cell_type": "markdown",
   "id": "e7239e27",
   "metadata": {},
   "source": [
    "### Class Distribution"
   ]
  },
  {
   "cell_type": "code",
   "execution_count": 3,
   "id": "60be4809",
   "metadata": {},
   "outputs": [
    {
     "name": "stdout",
     "output_type": "stream",
     "text": [
      "label : trailer :  990\n",
      "label : motorcycle :  8114\n",
      "label : bicycle :  19637\n",
      "label : car :  102971\n",
      "label : bus :  40409\n",
      "label : other vehicle :  13644\n",
      "label : pedestrian :  104779\n",
      "label : other person :  1974\n",
      "label : truck :  99964\n",
      "label : train :  1064\n",
      "label : rider :  13336\n"
     ]
    }
   ],
   "source": [
    "root='../BDD100K_MOT2020_image/bdd100k/images/track/train_av'\n",
    "\n",
    "class_list=['trailer', 'motorcycle', 'bicycle', 'car', 'bus', 'other vehicle', 'pedestrian', 'other person', 'truck', 'train', 'rider']\n",
    "\n",
    "for class_ in class_list:\n",
    "    print(f'label : {class_} : ', len(os.listdir(os.path.join(root, class_))))"
   ]
  },
  {
   "cell_type": "markdown",
   "id": "ed2220b3",
   "metadata": {},
   "source": [
    "## Image augmentaiton"
   ]
  },
  {
   "cell_type": "code",
   "execution_count": 2,
   "id": "88526e9c",
   "metadata": {},
   "outputs": [],
   "source": [
    "import tensorflow as tf\n",
    "import numpy as np\n",
    "import cv2"
   ]
  },
  {
   "cell_type": "markdown",
   "id": "4916f7ff",
   "metadata": {},
   "source": [
    ">label : trailer :  990  -->  truck이랑 통합  \n",
    "label : motorcycle :  8114 --> 일부만 사용(1만개 될 정도로)   \n",
    "label : bicycle :  19637  \n",
    "label : car :  102971  \n",
    "label : bus :  40409  \n",
    "label : other vehicle :  13644  \n",
    "label : pedestrian :  104779  \n",
    "label : other person :  1974  --> 앉아 있는 사람 등.. augmentation  \n",
    "label : truck :  99964  \n",
    "label : train :  1064  --> 삭제, 쓸 일 거의 없음, 증강 해도 모자람.  \n",
    "label : rider :  13336  "
   ]
  },
  {
   "cell_type": "markdown",
   "id": "fc7dbd8a",
   "metadata": {},
   "source": [
    "### 순서  \n",
    "0. other person 증강하기\n",
    "1. truck 제외 category들 n개 맞추기\n",
    "2. trailer 파일 truck에 포함시켜 n개 맞추기\n",
    "3. "
   ]
  },
  {
   "cell_type": "code",
   "execution_count": 9,
   "id": "acb7f4e1",
   "metadata": {},
   "outputs": [],
   "source": [
    "classes_for_aug=['other person']"
   ]
  },
  {
   "cell_type": "markdown",
   "id": "55a79d8d",
   "metadata": {},
   "source": [
    "> original image folder --> augmented image folder"
   ]
  },
  {
   "cell_type": "code",
   "execution_count": 10,
   "id": "16802f9f",
   "metadata": {},
   "outputs": [],
   "source": [
    "root='../BDD100K_MOT2020_image/bdd100k/images/track/train_av'\n",
    "save_root=root[:-8]+'train_av_aug'"
   ]
  },
  {
   "cell_type": "code",
   "execution_count": 11,
   "id": "82fcdff7",
   "metadata": {},
   "outputs": [],
   "source": [
    "if not os.path.exists(save_root):\n",
    "    os.mkdir(save_root)"
   ]
  },
  {
   "cell_type": "markdown",
   "id": "c25098d0",
   "metadata": {},
   "source": [
    "> keras.preprocessing.image.ImageDataGenerator"
   ]
  },
  {
   "cell_type": "code",
   "execution_count": 12,
   "id": "8a2d367b",
   "metadata": {},
   "outputs": [],
   "source": [
    "import numpy as np"
   ]
  },
  {
   "cell_type": "code",
   "execution_count": 53,
   "id": "913d2f8d",
   "metadata": {},
   "outputs": [],
   "source": [
    "import scipy"
   ]
  },
  {
   "cell_type": "code",
   "execution_count": 47,
   "id": "1d8c764f",
   "metadata": {},
   "outputs": [],
   "source": [
    "# 경로\n",
    "# folder_path=os.path.join(root,'{class}') # 증강 할 이미지 폴더\n",
    "\n",
    "# 결과 고정\n",
    "\n",
    "np.random.seed(15)\n",
    "generator=tf.keras.preprocessing.image.ImageDataGenerator(\n",
    "    rotation_range=20,\n",
    "    width_shift_range=0.2,\n",
    "    height_shift_range=0.2,\n",
    "    horizontal_flip=True,\n",
    "    vertical_flip=True)\n",
    "\n",
    "\n",
    "batch_size=1 # 테스트용\n",
    "iterations=4 # 테스트용\n",
    "images=[]"
   ]
  },
  {
   "cell_type": "code",
   "execution_count": 62,
   "id": "3cc8fbce",
   "metadata": {},
   "outputs": [
    {
     "name": "stdout",
     "output_type": "stream",
     "text": [
      "Found 1974 images belonging to 1 classes.\n"
     ]
    }
   ],
   "source": [
    "obj=generator.flow_from_directory(\n",
    "    directory=root, \n",
    "    classes=classes_for_aug,\n",
    "    #target_size=(32,32),\n",
    "    color_mode='rgb',\n",
    "    batch_size=batch_size,\n",
    "    save_to_dir=save_root, \n",
    "    #save_prefix='aug_'\n",
    "    #interpolation='dfdf',\n",
    "    save_format='jpg',\n",
    "    class_mode='sparse')"
   ]
  },
  {
   "cell_type": "markdown",
   "id": "83a613df",
   "metadata": {},
   "source": [
    "### 다른 방법 사용하기"
   ]
  },
  {
   "cell_type": "code",
   "execution_count": 3,
   "id": "025ca422",
   "metadata": {},
   "outputs": [],
   "source": [
    "from tensorflow.keras import layers"
   ]
  },
  {
   "cell_type": "code",
   "execution_count": 4,
   "id": "e8837a3a",
   "metadata": {},
   "outputs": [],
   "source": [
    "data_augmentation = tf.keras.Sequential([\n",
    "  layers.experimental.preprocessing.RandomFlip(\"horizontal_and_vertical\"),\n",
    "  layers.experimental.preprocessing.RandomRotation(0.2),\n",
    "  layers.experimental.preprocessing.RandomContrast(0.9)\n",
    "    \n",
    "])"
   ]
  },
  {
   "cell_type": "code",
   "execution_count": 264,
   "id": "48281164",
   "metadata": {},
   "outputs": [
    {
     "data": {
      "text/plain": [
       "<matplotlib.image.AxesImage at 0x7fdf78777ad0>"
      ]
     },
     "execution_count": 264,
     "metadata": {},
     "output_type": "execute_result"
    },
    {
     "data": {
      "image/png": "[encoded data removed]",
      "text/plain": [
       "<Figure size 432x288 with 1 Axes>"
      ]
     },
     "metadata": {
      "needs_background": "light"
     },
     "output_type": "display_data"
    }
   ],
   "source": [
    "ex_image=plt.imread(os.path.join(other_person_path, os.listdir(other_person_path)[255]))\n",
    "ex_image_re=ex_image.reshape(-1,32,32,3)\n",
    "ex_image_aug=data_augmentation(ex_image_re)\n",
    "plt.imshow(ex_image_aug[0])"
   ]
  },
  {
   "cell_type": "markdown",
   "id": "f3280163",
   "metadata": {},
   "source": [
    "other person에 대해서 x 5 증강"
   ]
  },
  {
   "cell_type": "code",
   "execution_count": 331,
   "id": "3f09a8c3",
   "metadata": {},
   "outputs": [],
   "source": [
    "from glob import glob\n",
    "from PIL import Image\n"
   ]
  },
  {
   "cell_type": "code",
   "execution_count": null,
   "id": "a4c66d54",
   "metadata": {},
   "outputs": [],
   "source": [
    "iterations=5\n",
    "other_person_path=os.path.join(root, 'other person')"
   ]
  },
  {
   "cell_type": "code",
   "execution_count": 275,
   "id": "66783c81",
   "metadata": {},
   "outputs": [],
   "source": [
    "images_list=glob(os.path.join(other_person_path, '*.jpg'))"
   ]
  },
  {
   "cell_type": "code",
   "execution_count": 276,
   "id": "3303d8bb",
   "metadata": {},
   "outputs": [],
   "source": [
    "images=[]\n",
    "for image_path in images_list:\n",
    "    image=plt.imread(image_path)\n",
    "    images.append(image)\n",
    "    \n",
    "images=np.array(images)"
   ]
  },
  {
   "cell_type": "code",
   "execution_count": 278,
   "id": "a9910092",
   "metadata": {},
   "outputs": [
    {
     "name": "stdout",
     "output_type": "stream",
     "text": [
      "(1974, 32, 32, 3)\n"
     ]
    }
   ],
   "source": [
    "print(images.shape)"
   ]
  },
  {
   "cell_type": "code",
   "execution_count": 281,
   "id": "65a034f1",
   "metadata": {},
   "outputs": [],
   "source": [
    "test=data_augmentation(images)"
   ]
  },
  {
   "cell_type": "code",
   "execution_count": 291,
   "id": "773b6be1",
   "metadata": {},
   "outputs": [
    {
     "data": {
      "image/png": "[encoded data removed]",
      "text/plain": [
       "<Figure size 432x288 with 9 Axes>"
      ]
     },
     "metadata": {
      "needs_background": "light"
     },
     "output_type": "display_data"
    }
   ],
   "source": [
    "for idx, image in enumerate(images[900:909]):\n",
    "    plt.subplot(3,3,idx+1)\n",
    "    plt.imshow(image)"
   ]
  },
  {
   "cell_type": "code",
   "execution_count": 312,
   "id": "607a5546",
   "metadata": {},
   "outputs": [],
   "source": [
    "image_names=os.listdir(other_person_path)"
   ]
  },
  {
   "cell_type": "markdown",
   "id": "a5c5059a",
   "metadata": {},
   "source": [
    "### other person folder에 1974*5개 저장"
   ]
  },
  {
   "cell_type": "code",
   "execution_count": 336,
   "id": "37bf6c76",
   "metadata": {},
   "outputs": [
    {
     "name": "stdout",
     "output_type": "stream",
     "text": [
      "5\n"
     ]
    }
   ],
   "source": [
    "print(iterations)"
   ]
  },
  {
   "cell_type": "code",
   "execution_count": 337,
   "id": "ddb7f81a",
   "metadata": {},
   "outputs": [],
   "source": [
    "for iter in range(iterations):\n",
    "    aug_images=data_augmentation(images) # 1974개의 augmetnation image\n",
    "    aug_images=aug_images.numpy() # numpy\n",
    "    for idx, image in enumerate(aug_images): # 새로 저장.\n",
    "        new_image_name=image_names[idx][:-4]+'-{}'.format(iter+1)+'.jpg'\n",
    "        im = Image.fromarray(image)\n",
    "        im.save(os.path.join(other_person_path, new_image_name))\n",
    "    "
   ]
  },
  {
   "cell_type": "code",
   "execution_count": 347,
   "id": "8083ba9d",
   "metadata": {},
   "outputs": [],
   "source": [
    "for iter in range(1):\n",
    "    aug_images=data_augmentation(images) # 1974개의 augmetnation image\n",
    "    aug_images=aug_images.numpy() # numpy\n",
    "    for idx, image in enumerate(aug_images): # 새로 저장.\n",
    "        new_image_name=image_names[idx][:-4]+'-{}'.format(iter+6)+'.jpg'\n",
    "        im = Image.fromarray(image)\n",
    "        im.save(os.path.join(other_person_path, new_image_name))"
   ]
  },
  {
   "cell_type": "markdown",
   "id": "f42afc62",
   "metadata": {},
   "source": [
    "## motorcycle 1회 증강"
   ]
  },
  {
   "cell_type": "code",
   "execution_count": 32,
   "id": "3baf1438",
   "metadata": {},
   "outputs": [],
   "source": [
    "import matplotlib.pyplot as plt"
   ]
  },
  {
   "cell_type": "code",
   "execution_count": 33,
   "id": "169f0285",
   "metadata": {},
   "outputs": [],
   "source": [
    "iterations=1\n",
    "motorcycle_path=os.path.join(root, 'motorcycle')"
   ]
  },
  {
   "cell_type": "code",
   "execution_count": 34,
   "id": "8d706781",
   "metadata": {},
   "outputs": [],
   "source": [
    "images_list=glob(os.path.join(motorcycle_path, '*.jpg'))"
   ]
  },
  {
   "cell_type": "code",
   "execution_count": 35,
   "id": "67a2432f",
   "metadata": {},
   "outputs": [],
   "source": [
    "images=[]\n",
    "for image_path in images_list:\n",
    "    image=plt.imread(image_path)\n",
    "    images.append(image)\n",
    "    \n",
    "images=np.array(images)"
   ]
  },
  {
   "cell_type": "code",
   "execution_count": 36,
   "id": "285e5734",
   "metadata": {},
   "outputs": [
    {
     "name": "stdout",
     "output_type": "stream",
     "text": [
      "(8114, 32, 32, 3)\n"
     ]
    }
   ],
   "source": [
    "print(images.shape)"
   ]
  },
  {
   "cell_type": "code",
   "execution_count": 37,
   "id": "f908df4e",
   "metadata": {},
   "outputs": [],
   "source": [
    "image_names=os.listdir(motorcycle_path)"
   ]
  },
  {
   "cell_type": "code",
   "execution_count": 38,
   "id": "88f8a4bb",
   "metadata": {},
   "outputs": [
    {
     "data": {
      "text/plain": [
       "'../BDD100K_MOT2020_image/bdd100k/images/track/train_av/motorcycle'"
      ]
     },
     "execution_count": 38,
     "metadata": {},
     "output_type": "execute_result"
    }
   ],
   "source": [
    "motorcycle_path"
   ]
  },
  {
   "cell_type": "code",
   "execution_count": null,
   "id": "b78f46c3",
   "metadata": {},
   "outputs": [],
   "source": []
  },
  {
   "cell_type": "code",
   "execution_count": 43,
   "id": "ef2aed6f",
   "metadata": {},
   "outputs": [],
   "source": [
    "for iter in range(iterations):\n",
    "    aug_images=data_augmentation(images) # 1974개의 augmetnation image\n",
    "    aug_images=aug_images.numpy() # numpy\n",
    "    for idx, image in enumerate(aug_images): # 새로 저장.\n",
    "        new_image_name=image_names[idx][:-4]+'-{}'.format(iter+1)+'.jpg'\n",
    "        im = Image.fromarray(image)\n",
    "        im.save(os.path.join(motorcycle_path, new_image_name))"
   ]
  },
  {
   "cell_type": "markdown",
   "id": "1686c2e8",
   "metadata": {},
   "source": [
    ">확인"
   ]
  },
  {
   "cell_type": "code",
   "execution_count": 50,
   "id": "edb60d33",
   "metadata": {},
   "outputs": [
    {
     "name": "stdout",
     "output_type": "stream",
     "text": [
      "16228\n"
     ]
    }
   ],
   "source": [
    "print(len(os.listdir(motorcycle_path)))"
   ]
  },
  {
   "cell_type": "markdown",
   "id": "575a973f",
   "metadata": {},
   "source": [
    "### 최종 train / test 저장"
   ]
  },
  {
   "cell_type": "code",
   "execution_count": 6,
   "id": "56f4e403",
   "metadata": {},
   "outputs": [],
   "source": [
    "final_train_root='../BDD100K_MOT2020_image/bdd100k/images/track/final_train_av'\n",
    "final_test_root='../BDD100K_MOT2020_image/bdd100k/images/track/final_test_av'"
   ]
  },
  {
   "cell_type": "code",
   "execution_count": 361,
   "id": "a097017e",
   "metadata": {},
   "outputs": [],
   "source": [
    "if not os.path.exists(final_train_root):\n",
    "    os.mkdir(final_train_root)\n",
    "if not os.path.exists(final_test_root):\n",
    "    os.mkdir(final_test_root)"
   ]
  },
  {
   "cell_type": "markdown",
   "id": "65442d42",
   "metadata": {},
   "source": [
    "> trailer 이동(-->truck), train 삭제"
   ]
  },
  {
   "cell_type": "code",
   "execution_count": 49,
   "id": "5b20f6f6",
   "metadata": {},
   "outputs": [],
   "source": [
    "class_list=['motorcycle', 'bicycle', 'car', 'bus', 'other vehicle', 'pedestrian', 'other person', 'truck', 'rider']\n"
   ]
  },
  {
   "cell_type": "code",
   "execution_count": 365,
   "id": "49499625",
   "metadata": {},
   "outputs": [],
   "source": [
    "for class_ in class_list:\n",
    "    if not os.path.exists(os.path.join(final_train_root, class_)):\n",
    "        os.mkdir(os.path.join(final_train_root, class_))\n",
    "for class_ in class_list:\n",
    "    if not os.path.exists(os.path.join(final_test_root, class_)):\n",
    "        os.mkdir(os.path.join(final_test_root, class_))"
   ]
  },
  {
   "cell_type": "code",
   "execution_count": 7,
   "id": "d67f0b84",
   "metadata": {},
   "outputs": [
    {
     "name": "stdout",
     "output_type": "stream",
     "text": [
      "label : trailer :  990\n",
      "label : motorcycle :  8114\n",
      "label : bicycle :  19637\n",
      "label : car :  102971\n",
      "label : bus :  40409\n",
      "label : other vehicle :  13644\n",
      "label : pedestrian :  104779\n",
      "label : other person :  13818\n",
      "label : truck :  99964\n",
      "label : train :  1064\n",
      "label : rider :  13336\n"
     ]
    }
   ],
   "source": [
    "root='../BDD100K_MOT2020_image/bdd100k/images/track/train_av'\n",
    "\n",
    "class_list_ori=['trailer', 'motorcycle', 'bicycle', 'car', 'bus', 'other vehicle', 'pedestrian', 'other person', 'truck', 'train', 'rider']\n",
    "\n",
    "for class_ in class_list_ori:\n",
    "    print(f'label : {class_} : ', len(os.listdir(os.path.join(root, class_))))"
   ]
  },
  {
   "cell_type": "markdown",
   "id": "ad4e9659",
   "metadata": {},
   "source": [
    "## trailer : 760(train)+230(test)"
   ]
  },
  {
   "cell_type": "code",
   "execution_count": 52,
   "id": "bf702af0",
   "metadata": {},
   "outputs": [],
   "source": [
    "trailer_num=len(os.listdir(os.path.join(root, 'trailer')))"
   ]
  },
  {
   "cell_type": "code",
   "execution_count": 53,
   "id": "13ba7763",
   "metadata": {},
   "outputs": [],
   "source": [
    "idx_arr=np.arange(trailer_num)\n",
    "# index shuffle\n",
    "np.random.shuffle(idx_arr)\n",
    "train_idx=idx_arr[:760]\n",
    "test_idx=idx_arr[760:]\n",
    "\n",
    "\n",
    "trailer_path=glob(os.path.join(root, 'trailer', '*.jpg'))\n",
    "\n",
    "train_trailer_path=[trailer_path[i] for i in train_idx]\n",
    "test_trailer_path=[trailer_path[i] for i in test_idx]"
   ]
  },
  {
   "cell_type": "markdown",
   "id": "36638426",
   "metadata": {},
   "source": [
    ">train"
   ]
  },
  {
   "cell_type": "code",
   "execution_count": 54,
   "id": "d22763e7",
   "metadata": {},
   "outputs": [],
   "source": [
    "for idx, train_path_ in enumerate(train_trailer_path):\n",
    "    image_jpg=train_trailer_path[idx].split('/')[-1]\n",
    "    shutil.copy(train_path_, os.path.join(final_train_root, 'truck', image_jpg))\n",
    "    "
   ]
  },
  {
   "cell_type": "markdown",
   "id": "2344ae4a",
   "metadata": {},
   "source": [
    ">test"
   ]
  },
  {
   "cell_type": "code",
   "execution_count": 55,
   "id": "ac01a859",
   "metadata": {},
   "outputs": [],
   "source": [
    "for idx, test_path_ in enumerate(test_trailer_path):\n",
    "    image_jpg=test_trailer_path[idx].split('/')[-1]\n",
    "    shutil.copy(test_path_, os.path.join(final_test_root, 'truck', image_jpg))\n",
    "    "
   ]
  },
  {
   "cell_type": "markdown",
   "id": "13089cb4",
   "metadata": {},
   "source": [
    "## truck : 9240(train) + 2770(test)"
   ]
  },
  {
   "cell_type": "code",
   "execution_count": 56,
   "id": "cea9d5b9",
   "metadata": {},
   "outputs": [],
   "source": [
    "truck_num=len(os.listdir(os.path.join(root, 'truck')))"
   ]
  },
  {
   "cell_type": "code",
   "execution_count": 57,
   "id": "543d0ca0",
   "metadata": {},
   "outputs": [],
   "source": [
    "idx_arr=np.arange(truck_num)\n",
    "# index shuffle\n",
    "np.random.shuffle(idx_arr)\n",
    "train_idx=idx_arr[:9240]\n",
    "test_idx=idx_arr[9240:9240+2770]\n",
    "\n",
    "\n",
    "truck_path=glob(os.path.join(root, 'truck', '*.jpg'))\n",
    "\n",
    "train_truck_path=[truck_path[i] for i in train_idx]\n",
    "test_truck_path=[truck_path[i] for i in test_idx]"
   ]
  },
  {
   "cell_type": "markdown",
   "id": "cfa0d280",
   "metadata": {},
   "source": [
    ">train"
   ]
  },
  {
   "cell_type": "code",
   "execution_count": 58,
   "id": "e5cca4c2",
   "metadata": {},
   "outputs": [],
   "source": [
    "for idx, train_path_ in enumerate(train_truck_path):\n",
    "    image_jpg=train_truck_path[idx].split('/')[-1]\n",
    "    shutil.copy(train_path_, os.path.join(final_train_root, 'truck', image_jpg))\n",
    "    "
   ]
  },
  {
   "cell_type": "markdown",
   "id": "d53dde77",
   "metadata": {},
   "source": [
    ">test"
   ]
  },
  {
   "cell_type": "code",
   "execution_count": 59,
   "id": "20cd6801",
   "metadata": {},
   "outputs": [],
   "source": [
    "for idx, test_path_ in enumerate(test_truck_path):\n",
    "    image_jpg=test_truck_path[idx].split('/')[-1]\n",
    "    shutil.copy(test_path_, os.path.join(final_test_root, 'truck', image_jpg))\n",
    "    "
   ]
  },
  {
   "cell_type": "code",
   "execution_count": 60,
   "id": "eb23a7dc",
   "metadata": {},
   "outputs": [
    {
     "name": "stdout",
     "output_type": "stream",
     "text": [
      "10000\n",
      "3000\n"
     ]
    }
   ],
   "source": [
    "print(len(os.listdir(os.path.join(final_train_root, 'truck'))))\n",
    "print(len(os.listdir(os.path.join(final_test_root, 'truck'))))"
   ]
  },
  {
   "cell_type": "markdown",
   "id": "28c619c0",
   "metadata": {},
   "source": [
    "## other : 10000(train) + 3000(test)"
   ]
  },
  {
   "cell_type": "code",
   "execution_count": 61,
   "id": "3166fb04",
   "metadata": {},
   "outputs": [],
   "source": [
    "other_class_list=['motorcycle', 'bicycle', 'car', 'bus', 'other vehicle', 'pedestrian', 'other person', 'rider']\n"
   ]
  },
  {
   "cell_type": "code",
   "execution_count": 63,
   "id": "5f7c5ca8",
   "metadata": {},
   "outputs": [
    {
     "name": "stdout",
     "output_type": "stream",
     "text": [
      "motorcycle : train 완료\n",
      "motorcycle : test 완료\n",
      "motorcycle  train : 10317\n",
      "motorcycle  test : 3000\n",
      "bicycle : train 완료\n",
      "bicycle : test 완료\n",
      "bicycle  train : 10000\n",
      "bicycle  test : 3000\n",
      "car : train 완료\n",
      "car : test 완료\n",
      "car  train : 10000\n",
      "car  test : 3000\n",
      "bus : train 완료\n",
      "bus : test 완료\n",
      "bus  train : 10000\n",
      "bus  test : 3000\n",
      "other vehicle : train 완료\n",
      "other vehicle : test 완료\n",
      "other vehicle  train : 10000\n",
      "other vehicle  test : 3000\n",
      "pedestrian : train 완료\n",
      "pedestrian : test 완료\n",
      "pedestrian  train : 10000\n",
      "pedestrian  test : 3000\n",
      "other person : train 완료\n",
      "other person : test 완료\n",
      "other person  train : 10000\n",
      "other person  test : 3000\n",
      "rider : train 완료\n",
      "rider : test 완료\n",
      "rider  train : 10000\n",
      "rider  test : 3000\n"
     ]
    }
   ],
   "source": [
    "for other_class in other_class_list:\n",
    "    other_class_num=len(os.listdir(os.path.join(root, other_class)))\n",
    "\n",
    "    idx_arr=np.arange(other_class_num)\n",
    "    # index shuffle\n",
    "    np.random.shuffle(idx_arr)\n",
    "    train_idx=idx_arr[:10000]\n",
    "    test_idx=idx_arr[10000:10000+3000]\n",
    "\n",
    "\n",
    "    other_class_path=glob(os.path.join(root, other_class, '*.jpg'))\n",
    "\n",
    "    train_other_class_path=[other_class_path[i] for i in train_idx]\n",
    "    test_other_class_path=[other_class_path[i] for i in test_idx]\n",
    "\n",
    "    #train\n",
    "    for idx, train_path_ in enumerate(train_other_class_path):\n",
    "        image_jpg=train_other_class_path[idx].split('/')[-1]\n",
    "        shutil.copy(train_path_, os.path.join(final_train_root, other_class, image_jpg))\n",
    "    print(other_class, ': train 완료')\n",
    "    #test\n",
    "    for idx, test_path_ in enumerate(test_other_class_path):\n",
    "        image_jpg=test_other_class_path[idx].split('/')[-1]\n",
    "        shutil.copy(test_path_, os.path.join(final_test_root, other_class, image_jpg))\n",
    "    print(other_class, ': test 완료')\n",
    "\n",
    "    print(other_class, ' train :', len(os.listdir(os.path.join(final_train_root, other_class))))\n",
    "    print(other_class, ' test :', len(os.listdir(os.path.join(final_test_root, other_class))))\n",
    "    "
   ]
  },
  {
   "cell_type": "code",
   "execution_count": 64,
   "id": "6bc58ad8",
   "metadata": {},
   "outputs": [
    {
     "name": "stdout",
     "output_type": "stream",
     "text": [
      "motorcycle : train 완료\n",
      "motorcycle : test 완료\n",
      "motorcycle  train : 10000\n",
      "motorcycle  test : 3000\n"
     ]
    }
   ],
   "source": [
    "other_class='motorcycle'\n",
    "other_class_num=len(os.listdir(os.path.join(root, other_class)))\n",
    "\n",
    "idx_arr=np.arange(other_class_num)\n",
    "# index shuffle\n",
    "np.random.shuffle(idx_arr)\n",
    "train_idx=idx_arr[:10000]\n",
    "test_idx=idx_arr[10000:10000+3000]\n",
    "\n",
    "\n",
    "other_class_path=glob(os.path.join(root, other_class, '*.jpg'))\n",
    "\n",
    "train_other_class_path=[other_class_path[i] for i in train_idx]\n",
    "test_other_class_path=[other_class_path[i] for i in test_idx]\n",
    "\n",
    "#train\n",
    "for idx, train_path_ in enumerate(train_other_class_path):\n",
    "    image_jpg=train_other_class_path[idx].split('/')[-1]\n",
    "    shutil.copy(train_path_, os.path.join(final_train_root, other_class, image_jpg))\n",
    "print(other_class, ': train 완료')\n",
    "#test\n",
    "for idx, test_path_ in enumerate(test_other_class_path):\n",
    "    image_jpg=test_other_class_path[idx].split('/')[-1]\n",
    "    shutil.copy(test_path_, os.path.join(final_test_root, other_class, image_jpg))\n",
    "print(other_class, ': test 완료')\n",
    "\n",
    "print(other_class, ' train :', len(os.listdir(os.path.join(final_train_root, other_class))))\n",
    "print(other_class, ' test :', len(os.listdir(os.path.join(final_test_root, other_class))))\n"
   ]
  },
  {
   "cell_type": "markdown",
   "id": "f5a33409",
   "metadata": {},
   "source": [
    "## 완료 training set"
   ]
  },
  {
   "cell_type": "code",
   "execution_count": 67,
   "id": "f05d93d3",
   "metadata": {},
   "outputs": [
    {
     "name": "stdout",
     "output_type": "stream",
     "text": [
      "label : motorcycle :  10000\n",
      "label : bicycle :  10000\n",
      "label : car :  10000\n",
      "label : bus :  10000\n",
      "label : other vehicle :  10000\n",
      "label : pedestrian :  10000\n",
      "label : other person :  10000\n",
      "label : truck :  10000\n",
      "label : rider :  10000\n"
     ]
    }
   ],
   "source": [
    "final_trainroot='../BDD100K_MOT2020_image/bdd100k/images/track/final_train_av'\n",
    "final_test_root='../BDD100K_MOT2020_image/bdd100k/images/track/final_test_av'\n",
    "\n",
    "class_list=['motorcycle', 'bicycle', 'car', 'bus', 'other vehicle', 'pedestrian', 'other person', 'truck', 'rider']\n",
    "\n",
    "for class_ in class_list:\n",
    "    print(f'label : {class_} : ', len(os.listdir(os.path.join(final_train_root, class_))))"
   ]
  },
  {
   "cell_type": "code",
   "execution_count": 70,
   "id": "2b6d08f0",
   "metadata": {},
   "outputs": [
    {
     "name": "stdout",
     "output_type": "stream",
     "text": [
      "label : motorcycle :  3000\n",
      "label : bicycle :  3000\n",
      "label : car :  3000\n",
      "label : bus :  3000\n",
      "label : other vehicle :  3000\n",
      "label : pedestrian :  3000\n",
      "label : other person :  3000\n",
      "label : truck :  3000\n",
      "label : rider :  3000\n"
     ]
    }
   ],
   "source": [
    "for class_ in class_list:\n",
    "    print(f'label : {class_} : ', len(os.listdir(os.path.join(final_test_root, class_))))"
   ]
  },
  {
   "cell_type": "markdown",
   "id": "3182c558",
   "metadata": {},
   "source": [
    "## scipy --> 0.14.0으로 downgrade(실패)"
   ]
  },
  {
   "cell_type": "code",
   "execution_count": 266,
   "id": "aaa08d1c",
   "metadata": {},
   "outputs": [],
   "source": [
    "import scipy"
   ]
  },
  {
   "cell_type": "markdown",
   "id": "4c8eeeef",
   "metadata": {},
   "source": [
    "# CategoryTest"
   ]
  },
  {
   "cell_type": "code",
   "execution_count": 80,
   "id": "233f83c9",
   "metadata": {},
   "outputs": [],
   "source": [
    "import matplotlib.pyplot as plt"
   ]
  },
  {
   "cell_type": "code",
   "execution_count": 78,
   "id": "834ba132",
   "metadata": {},
   "outputs": [],
   "source": [
    "trailer_path=os.path.join(root, 'trailer')\n",
    "train_path=os.path.join(root, 'train')\n",
    "other_person_path=os.path.join(root, 'other person')"
   ]
  },
  {
   "cell_type": "code",
   "execution_count": 76,
   "id": "c451bd52",
   "metadata": {},
   "outputs": [
    {
     "ename": "NameError",
     "evalue": "name 'plt' is not defined",
     "output_type": "error",
     "traceback": [
      "\u001b[0;31m---------------------------------------------------------------------------\u001b[0m",
      "\u001b[0;31mNameError\u001b[0m                                 Traceback (most recent call last)",
      "\u001b[0;32m<ipython-input-76-ce926cb95001>\u001b[0m in \u001b[0;36m<module>\u001b[0;34m\u001b[0m\n\u001b[0;32m----> 1\u001b[0;31m \u001b[0mplt\u001b[0m\u001b[0;34m.\u001b[0m\u001b[0mimread\u001b[0m\u001b[0;34m(\u001b[0m\u001b[0mos\u001b[0m\u001b[0;34m.\u001b[0m\u001b[0mpath\u001b[0m\u001b[0;34m.\u001b[0m\u001b[0mjoin\u001b[0m\u001b[0;34m(\u001b[0m\u001b[0mtrailer_path\u001b[0m\u001b[0;34m,\u001b[0m \u001b[0mex_file_trailer\u001b[0m\u001b[0;34m)\u001b[0m\u001b[0;34m)\u001b[0m\u001b[0;34m\u001b[0m\u001b[0;34m\u001b[0m\u001b[0m\n\u001b[0m",
      "\u001b[0;31mNameError\u001b[0m: name 'plt' is not defined"
     ]
    }
   ],
   "source": [
    "plt.imread(os.path.join(trailer_path, ex_file_trailer))"
   ]
  },
  {
   "cell_type": "code",
   "execution_count": null,
   "id": "6e395f5b",
   "metadata": {},
   "outputs": [],
   "source": [
    "os.listdir(trailer_path)[np.random.randint(500,800)]"
   ]
  },
  {
   "cell_type": "code",
   "execution_count": 81,
   "id": "4ff6552e",
   "metadata": {},
   "outputs": [
    {
     "data": {
      "text/plain": [
       "<matplotlib.image.AxesImage at 0x7fe0e5074990>"
      ]
     },
     "execution_count": 81,
     "metadata": {},
     "output_type": "execute_result"
    },
    {
     "data": {
      "image/png": "[encoded data removed]",
      "text/plain": [
       "<Figure size 432x288 with 3 Axes>"
      ]
     },
     "metadata": {
      "needs_background": "light"
     },
     "output_type": "display_data"
    }
   ],
   "source": [
    "ex_num=np.random.randint(500,800)\n",
    "\n",
    "ex_file_trailer=os.listdir(trailer_path)[ex_num]\n",
    "ex_file_train=os.listdir(train_path)[ex_num]\n",
    "ex_file_other_person=os.listdir(other_person_path)[ex_num]\n",
    "\n",
    "plt.grid('off')\n",
    "ax=plt.subplot(1,3,1)\n",
    "plt.imshow(plt.imread(os.path.join(trailer_path, ex_file_trailer)))\n",
    "ax=plt.subplot(1,3,2)\n",
    "plt.imshow(plt.imread(os.path.join(train_path, ex_file_train)))\n",
    "ax=plt.subplot(1,3,3)\n",
    "plt.imshow(plt.imread(os.path.join(other_person_path, ex_file_other_person)))"
   ]
  },
  {
   "cell_type": "code",
   "execution_count": null,
   "id": "4aad99d4",
   "metadata": {},
   "outputs": [],
   "source": []
  }
 ],
 "metadata": {
  "kernelspec": {
   "display_name": "Python 3",
   "language": "python",
   "name": "python3"
  },
  "language_info": {
   "codemirror_mode": {
    "name": "ipython",
    "version": 3
   },
   "file_extension": ".py",
   "mimetype": "text/x-python",
   "name": "python",
   "nbconvert_exporter": "python",
   "pygments_lexer": "ipython3",
   "version": "3.7.10"
  }
 },
 "nbformat": 4,
 "nbformat_minor": 5
}
