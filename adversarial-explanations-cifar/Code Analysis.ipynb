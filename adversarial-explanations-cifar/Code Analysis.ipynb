{
 "cells": [
  {
   "cell_type": "markdown",
   "id": "8bfc729e",
   "metadata": {},
   "source": [
    "# Adversarial Example"
   ]
  },
  {
   "cell_type": "markdown",
   "id": "d9f90b02",
   "metadata": {},
   "source": [
    "### 0610\n",
    "offset 변경"
   ]
  },
  {
   "cell_type": "markdown",
   "id": "bb0e7f3e",
   "metadata": {},
   "source": [
    "## Configuration"
   ]
  },
  {
   "cell_type": "code",
   "execution_count": 1,
   "id": "ffc44f01",
   "metadata": {},
   "outputs": [],
   "source": [
    "import warnings\n",
    "\n",
    "warnings.filterwarnings(action='ignore')\n",
    "\n",
    "import torch\n",
    "\n",
    "### local imports\n",
    "import model\n",
    "\n",
    "\n",
    "### Environment imports\n",
    "import click # Class object() 대신 argument 조절 library 사용\n",
    "import math\n",
    "import os\n",
    "import shutil # 고수준 파일 연산\n",
    "import torch\n",
    "import torch.utils.data.dataset\n",
    "import torchvision"
   ]
  },
  {
   "cell_type": "code",
   "execution_count": 6,
   "id": "3581f774",
   "metadata": {},
   "outputs": [],
   "source": [
    "### Configuration settings\n",
    "# Resnet의 기본 학습 단계이다. \n",
    "# Training rate / size parameters\n",
    "TRAIN_BATCHSIZE = 128  # GPU 개수에 따라 배수로 조절해도 됨.\n",
    "TRAIN_LR = 0.1  # GPU 개수에 따라 배수로 조절해도 됨. --> ?\n",
    "TRAIN_MOMENTUM = 0.9 #  --> (SGD optimizer 사용)\n",
    "TRAIN_WEIGHT_DECAY = 1e-4 # --> (SGD optimizer 사용)\n",
    "TRAIN_EPOCHS = [170, 195, 200]  # Divide lr by 10 at each; finish after last. --> 해당 epoch이 될 때마다 학습률을 0.1배\n"
   ]
  },
  {
   "cell_type": "code",
   "execution_count": 7,
   "id": "01458e18",
   "metadata": {},
   "outputs": [],
   "source": [
    "# Adversarial training settings\n",
    "# 적대적 훈련은 노이즈에 대한 L2 loss를 최소화함\n",
    "# 동시에 번갈아가면서 class에서 멀어지도록 gradient ascent를 진행..\n",
    "TRAIN_ADV_EPS = 0.01 # 적대적 설명을 사용한다.\n",
    "TRAIN_ADV_L2MIN_EPS = 0.1 # 적대적 설명을 사용할 때 L2 MIN도 사용가능."
   ]
  },
  {
   "cell_type": "markdown",
   "id": "f326ef37",
   "metadata": {},
   "source": [
    "#### 추가적 이해 필요"
   ]
  },
  {
   "cell_type": "code",
   "execution_count": null,
   "id": "3ce9ede3",
   "metadata": {},
   "outputs": [],
   "source": [
    "# 적대적 설명에 대한 예시\n",
    "\"\"\"Trains a network and saves the result at PATH.\n",
    "\n",
    "    Options:\n",
    "\n",
    "        --adversarial-training: Train the network using adversarial examples.\n",
    "                By default, the adversarial examples are generated using a\n",
    "                standard \"L_2\" loss function and an epsilon of 0.01.\n",
    "\n",
    "        --l2-min: Only valid with --adversarial-training.  If specified, use\n",
    "                the \"L_{2,min}\"  method of generating adversarial examples,\n",
    "                with an epsilon of 0.1. # 적대적 학습의 L2 min. \n",
    "\n",
    "        --robust-additions: Train with the best settings of the other\n",
    "                modifications in the paper, including: defense via Lipschitz\n",
    "                Continuity with \"L_{adv,z=2}\", \"\\zeta = 0.2\" using\n",
    "                \"L_{adv,tandem}\", the Half-Huber ReLU, no output zeroing,\n",
    "                an adaptive \"\\psi\" with \"L_{target}=1.5\", \"k_{\\psi,0}=220\",\n",
    "                \"k_{\\psi}=\\ln 0.02\", \"\\epsilon_{better}=1\",\n",
    "                \"\\epsilon_{worse}=0.01\", and half-half adversarial training when\n",
    "                also using adversarial training.\n",
    "\"\"\""
   ]
  },
  {
   "cell_type": "code",
   "execution_count": null,
   "id": "4eeae06a",
   "metadata": {},
   "outputs": [],
   "source": [
    "# Adversarial robustness parameters\n",
    "ROBUST_Z = 2\n",
    "ROBUST_ZETA = 0.2  # 항상 쌍으로 이루어진다(tandem).\n",
    "ROBUST_ADAPT_L_TARGET = 1.5\n",
    "ROBUST_ADAPT_PSI_0 = 220\n",
    "ROBUST_ADAPT_PSI = 0.02\n",
    "ROBUST_ADAPT_EPS_POS = 1\n",
    "ROBUST_ADAPT_EPS_NEG = 0.01"
   ]
  },
  {
   "cell_type": "markdown",
   "id": "5e5d7ed6",
   "metadata": {},
   "source": [
    " "
   ]
  },
  {
   "cell_type": "code",
   "execution_count": 1,
   "id": "b60d6cb7",
   "metadata": {},
   "outputs": [],
   "source": [
    "# Offset as [mean, std] of data input. --> ( Resnet 메인 모델의 forward, 정규화)\n",
    "MODEL_INPUT_OFFSET = [[0.4914, 0.4822, 0.4465], [0.247, 0.243, 0.261]]"
   ]
  },
  {
   "cell_type": "markdown",
   "id": "42cddd58",
   "metadata": {},
   "source": [
    "### 네트워크 구조"
   ]
  },
  {
   "cell_type": "code",
   "execution_count": 2,
   "id": "cafae4c3",
   "metadata": {},
   "outputs": [],
   "source": [
    "def cifar10_preprocess(ft_out):\n",
    "    return torch.nn.Conv2d(3, ft_out, kernel_size=3, padding=1, bias=False)"
   ]
  },
  {
   "cell_type": "code",
   "execution_count": null,
   "id": "7ac80bb9",
   "metadata": {},
   "outputs": [],
   "source": [
    "MODEL_ARCH=[\n",
    "    32, # input size, 정사각형 가정\n",
    "    cifar10_preprocess, #Resnet의 initial layer.\n",
    "    [(44 - 2)//6 for _ in range(3)],# [7,7,7],  Block Length --> ( ... ) \n",
    "    [16, 32, 64], # feature의 개수들.\n",
    "    10,  # class 개수 (cifar-10)\n",
    "]"
   ]
  },
  {
   "cell_type": "code",
   "execution_count": null,
   "id": "5570dc03",
   "metadata": {},
   "outputs": [],
   "source": [
    "# Low-resource computer를 위한 실험 (우선 배제)\n",
    "# ONE_BATCH_ONLY = False\n"
   ]
  },
  {
   "cell_type": "markdown",
   "id": "8bde9449",
   "metadata": {},
   "source": [
    "## dataset"
   ]
  },
  {
   "cell_type": "markdown",
   "id": "90ef69fa",
   "metadata": {},
   "source": [
    "### automobile"
   ]
  },
  {
   "cell_type": "code",
   "execution_count": 2,
   "id": "6460aed1",
   "metadata": {},
   "outputs": [],
   "source": [
    "#save_path='../BDD100K_MOT2020_image/bdd100k/images/track/new_train' 0609\n",
    "\n",
    "\n",
    "root='../BDD100K_MOT2020_image/bdd100k/images/track/train_av'\n",
    "root_test='../BDD100K_MOT2020_image/bdd100k/images/track/test_av'\n",
    "\n",
    "label_save_path='../BDD100K_MOT2020_label/bdd100k/labels/box_track_20/new_train'"
   ]
  },
  {
   "cell_type": "markdown",
   "id": "7e98541b",
   "metadata": {},
   "source": [
    "#### 기존"
   ]
  },
  {
   "cell_type": "code",
   "execution_count": 3,
   "id": "0825a629",
   "metadata": {},
   "outputs": [],
   "source": [
    "def _get_dataset():\n",
    "    \n",
    "    \n",
    "    \"\"\"Returns (ds_train, ds_test) with augmentations on training set.\n",
    "    \"\"\"\n",
    "    T = torchvision.transforms\n",
    "#     aug_pad = 4\n",
    "#     aug_dim = 32 + aug_pad * 2\n",
    "    transform_train = T.Compose([T.ToTensor(), ])\n",
    "        \n",
    "    ds_train = torchvision.datasets.ImageFolder(root, \n",
    "            transform=T.ToTensor())\n",
    "    ds_test = torchvision.datasets.ImageFolder(root_test, \n",
    "            transform=T.ToTensor())\n",
    "    \n",
    "    return ds_train, ds_test"
   ]
  },
  {
   "cell_type": "code",
   "execution_count": null,
   "id": "f09b430f",
   "metadata": {},
   "outputs": [],
   "source": [
    "ds_train, ds_test=get"
   ]
  },
  {
   "cell_type": "markdown",
   "id": "b9e121ac",
   "metadata": {},
   "source": [
    "#### 변경"
   ]
  },
  {
   "cell_type": "code",
   "execution_count": 556,
   "id": "8f5accb3",
   "metadata": {},
   "outputs": [
    {
     "data": {
      "text/plain": [
       "['bicycle',\n",
       " 'bus',\n",
       " 'car',\n",
       " 'motorcycle',\n",
       " 'other person',\n",
       " 'other vehicle',\n",
       " 'pedestrian',\n",
       " 'rider',\n",
       " 'trailer',\n",
       " 'train',\n",
       " 'truck']"
      ]
     },
     "execution_count": 556,
     "metadata": {},
     "output_type": "execute_result"
    }
   ],
   "source": [
    "ds_test.classes"
   ]
  },
  {
   "cell_type": "markdown",
   "id": "8cdf427b",
   "metadata": {},
   "source": [
    "증강사용"
   ]
  },
  {
   "cell_type": "code",
   "execution_count": 528,
   "id": "e2e18945",
   "metadata": {},
   "outputs": [],
   "source": [
    "def _get_dataset2():\n",
    "    \"\"\"Returns (ds_train, ds_test) with augmentations on training set.\n",
    "    \"\"\"\n",
    "    T = torchvision.transforms\n",
    "    aug_pad = 4\n",
    "    aug_dim = 32 + aug_pad * 2\n",
    "    ds_train = torchvision.datasets.ImageFolder(root, \n",
    "            transform=T.Compose([\n",
    "                T.ToTensor(),\n",
    "                T.Lambda(lambda tensor:\n",
    "                    torch.nn.functional.pad(\n",
    "                        tensor.view(1, 3, 32, 32),\n",
    "                        (aug_pad,)*4,\n",
    "                        'replicate').view(3, aug_dim, aug_dim)),\n",
    "                T.ToPILImage(),\n",
    "                T.RandomHorizontalFlip(),\n",
    "                T.RandomCrop((32, 32)),\n",
    "                T.ToTensor(),\n",
    "            ]))\n",
    "    ds_test = torchvision.datasets.ImageFolder(root_test,\n",
    "            transform=torchvision.transforms.ToTensor())\n",
    "    return ds_train, ds_test"
   ]
  },
  {
   "cell_type": "markdown",
   "id": "49b68c6d",
   "metadata": {},
   "source": [
    "### Train, Test Image Folder"
   ]
  },
  {
   "cell_type": "code",
   "execution_count": 355,
   "id": "6048e8f9",
   "metadata": {},
   "outputs": [
    {
     "name": "stdout",
     "output_type": "stream",
     "text": [
      "trailer 305\n",
      "motorcycle 983\n",
      "bicycle 3505\n",
      "car 57212\n",
      "bus 7549\n",
      "other vehicle 2699\n",
      "pedestrian 44011\n",
      "other person 422\n",
      "truck 15033\n",
      "train 3\n",
      "rider 1919\n"
     ]
    }
   ],
   "source": [
    "labels=os.listdir(root)\n",
    "for label in labels:\n",
    "    print(label, len(os.listdir(os.path.join(root,label))))"
   ]
  },
  {
   "cell_type": "code",
   "execution_count": 4,
   "id": "dcaf32f7",
   "metadata": {},
   "outputs": [
    {
     "name": "stdout",
     "output_type": "stream",
     "text": [
      "trailer 990\n",
      "motorcycle 8114\n",
      "bicycle 19637\n",
      "car 102971\n",
      "bus 40409\n",
      "other vehicle 13644\n",
      "pedestrian 104779\n",
      "other person 1974\n",
      "truck 99964\n",
      "train 1064\n",
      "rider 13336\n"
     ]
    }
   ],
   "source": [
    "labels=os.listdir(root)\n",
    "for label in labels:\n",
    "    print(label, len(os.listdir(os.path.join(root,label))))"
   ]
  },
  {
   "cell_type": "markdown",
   "id": "523d9de1",
   "metadata": {},
   "source": [
    "> root_test는 추후에 밸런스 맞춰서 할당."
   ]
  },
  {
   "cell_type": "code",
   "execution_count": 58,
   "id": "8f1416cf",
   "metadata": {},
   "outputs": [
    {
     "name": "stdout",
     "output_type": "stream",
     "text": [
      "51\n",
      "176\n",
      "1086\n",
      "14257\n",
      "981\n",
      "469\n",
      "9427\n",
      "130\n",
      "4520\n",
      "1\n",
      "397\n"
     ]
    }
   ],
   "source": [
    "labels=os.listdir(root_test)\n",
    "for label in labels:\n",
    "    print(len(os.listdir(os.path.join(root_test,label))))"
   ]
  },
  {
   "cell_type": "markdown",
   "id": "c8c28f95",
   "metadata": {},
   "source": [
    "22:06"
   ]
  },
  {
   "cell_type": "code",
   "execution_count": 116,
   "id": "a6ab8ed6",
   "metadata": {},
   "outputs": [],
   "source": [
    "ds_train, ds_test=_get_dataset()"
   ]
  },
  {
   "cell_type": "code",
   "execution_count": 117,
   "id": "bd42b613",
   "metadata": {},
   "outputs": [
    {
     "data": {
      "text/plain": [
       "Dataset ImageFolder\n",
       "    Number of datapoints: 31495\n",
       "    Root location: ../BDD100K_MOT2020_image/bdd100k/images/track/test_av\n",
       "    StandardTransform\n",
       "Transform: ToTensor()"
      ]
     },
     "execution_count": 117,
     "metadata": {},
     "output_type": "execute_result"
    }
   ],
   "source": [
    "ds_test"
   ]
  },
  {
   "cell_type": "code",
   "execution_count": 356,
   "id": "bd30cdb1",
   "metadata": {},
   "outputs": [
    {
     "data": {
      "text/plain": [
       "{'bicycle': 0,\n",
       " 'bus': 1,\n",
       " 'car': 2,\n",
       " 'motorcycle': 3,\n",
       " 'other person': 4,\n",
       " 'other vehicle': 5,\n",
       " 'pedestrian': 6,\n",
       " 'rider': 7,\n",
       " 'trailer': 8,\n",
       " 'train': 9,\n",
       " 'truck': 10}"
      ]
     },
     "execution_count": 356,
     "metadata": {},
     "output_type": "execute_result"
    }
   ],
   "source": [
    "ds_train.class_to_idx"
   ]
  },
  {
   "cell_type": "code",
   "execution_count": 367,
   "id": "13a58359",
   "metadata": {},
   "outputs": [],
   "source": [
    "i=0"
   ]
  },
  {
   "cell_type": "code",
   "execution_count": 385,
   "id": "1536590e",
   "metadata": {
    "scrolled": true
   },
   "outputs": [
    {
     "name": "stdout",
     "output_type": "stream",
     "text": [
      "1\n"
     ]
    },
    {
     "data": {
      "image/png": "[encoded data removed]",
      "text/plain": [
       "<Figure size 432x288 with 1 Axes>"
      ]
     },
     "metadata": {
      "needs_background": "light"
     },
     "output_type": "display_data"
    }
   ],
   "source": [
    "print(ds_train[i][1])\n",
    "img=ds_train[i][0].numpy()\n",
    "img=np.swapaxes(img,0,1)\n",
    "img=np.swapaxes(img,1,2)\n",
    "plt.imshow(img)\n",
    "i+=500"
   ]
  },
  {
   "cell_type": "markdown",
   "id": "fb8e1d43",
   "metadata": {},
   "source": [
    "### 셔플 잘 되나."
   ]
  },
  {
   "cell_type": "code",
   "execution_count": 444,
   "id": "a8e920c9",
   "metadata": {},
   "outputs": [],
   "source": [
    "train_loader = torch.utils.data.DataLoader(ds_train, batch_size=128,\n",
    "            shuffle=True, num_workers=8, drop_last=False)"
   ]
  },
  {
   "cell_type": "code",
   "execution_count": 459,
   "id": "94352161",
   "metadata": {},
   "outputs": [],
   "source": [
    "batch=next(iter(train_loader))"
   ]
  },
  {
   "cell_type": "code",
   "execution_count": 463,
   "id": "3e3a255e",
   "metadata": {},
   "outputs": [
    {
     "data": {
      "text/plain": [
       "torch.Size([3, 32, 32])"
      ]
     },
     "execution_count": 463,
     "metadata": {},
     "output_type": "execute_result"
    }
   ],
   "source": [
    "batch[0][0].shape"
   ]
  },
  {
   "cell_type": "code",
   "execution_count": null,
   "id": "c97fb7b3",
   "metadata": {},
   "outputs": [],
   "source": []
  },
  {
   "cell_type": "code",
   "execution_count": null,
   "id": "471e6875",
   "metadata": {},
   "outputs": [],
   "source": []
  },
  {
   "cell_type": "code",
   "execution_count": null,
   "id": "df609783",
   "metadata": {},
   "outputs": [],
   "source": [
    "batch[0[0]]"
   ]
  },
  {
   "cell_type": "code",
   "execution_count": 481,
   "id": "56cb117c",
   "metadata": {},
   "outputs": [],
   "source": [
    "i=0"
   ]
  },
  {
   "cell_type": "code",
   "execution_count": null,
   "id": "1aebe9e5",
   "metadata": {},
   "outputs": [],
   "source": []
  },
  {
   "cell_type": "code",
   "execution_count": 484,
   "id": "b396eaf8",
   "metadata": {},
   "outputs": [
    {
     "data": {
      "text/plain": [
       "{'bicycle': 0,\n",
       " 'bus': 1,\n",
       " 'car': 2,\n",
       " 'motorcycle': 3,\n",
       " 'other person': 4,\n",
       " 'other vehicle': 5,\n",
       " 'pedestrian': 6,\n",
       " 'rider': 7,\n",
       " 'trailer': 8,\n",
       " 'train': 9,\n",
       " 'truck': 10}"
      ]
     },
     "execution_count": 484,
     "metadata": {},
     "output_type": "execute_result"
    }
   ],
   "source": [
    "ds_train.class_to_idx"
   ]
  },
  {
   "cell_type": "code",
   "execution_count": 524,
   "id": "8751d33a",
   "metadata": {},
   "outputs": [
    {
     "name": "stdout",
     "output_type": "stream",
     "text": [
      "tensor(1)\n"
     ]
    },
    {
     "data": {
      "image/png": "[encoded data removed]",
      "text/plain": [
       "<Figure size 432x288 with 1 Axes>"
      ]
     },
     "metadata": {
      "needs_background": "light"
     },
     "output_type": "display_data"
    }
   ],
   "source": [
    "print(batch[1][i])\n",
    "img=batch[0][i].numpy()\n",
    "img=np.swapaxes(img,0,1)\n",
    "img=np.swapaxes(img,1,2)\n",
    "plt.imshow(img)\n",
    "i+=1"
   ]
  },
  {
   "cell_type": "markdown",
   "id": "d6dbf473",
   "metadata": {},
   "source": [
    "셔플은 잘 된듯."
   ]
  },
  {
   "cell_type": "markdown",
   "id": "ed100fe3",
   "metadata": {},
   "source": [
    "#### 데이터증강 사용"
   ]
  },
  {
   "cell_type": "code",
   "execution_count": 529,
   "id": "c4b1d7a4",
   "metadata": {},
   "outputs": [],
   "source": [
    "ds_train, ds_test=_get_dataset2()"
   ]
  },
  {
   "cell_type": "code",
   "execution_count": 530,
   "id": "92003d90",
   "metadata": {},
   "outputs": [
    {
     "data": {
      "text/plain": [
       "Dataset ImageFolder\n",
       "    Number of datapoints: 133641\n",
       "    Root location: ../BDD100K_MOT2020_image/bdd100k/images/track/train_av\n",
       "    StandardTransform\n",
       "Transform: Compose(\n",
       "               ToTensor()\n",
       "               Lambda()\n",
       "               ToPILImage()\n",
       "               RandomHorizontalFlip(p=0.5)\n",
       "               RandomCrop(size=(32, 32), padding=None)\n",
       "               ToTensor()\n",
       "           )"
      ]
     },
     "execution_count": 530,
     "metadata": {},
     "output_type": "execute_result"
    }
   ],
   "source": [
    "ds_train"
   ]
  },
  {
   "cell_type": "code",
   "execution_count": 531,
   "id": "87a2d43f",
   "metadata": {},
   "outputs": [],
   "source": [
    "i=0"
   ]
  },
  {
   "cell_type": "code",
   "execution_count": 550,
   "id": "9cfe5079",
   "metadata": {},
   "outputs": [
    {
     "name": "stdout",
     "output_type": "stream",
     "text": [
      "1\n"
     ]
    },
    {
     "data": {
      "image/png": "[encoded data removed]",
      "text/plain": [
       "<Figure size 432x288 with 1 Axes>"
      ]
     },
     "metadata": {
      "needs_background": "light"
     },
     "output_type": "display_data"
    }
   ],
   "source": [
    "print(ds_train[i][1])\n",
    "img=ds_train[i][0].numpy()\n",
    "img=np.swapaxes(img,0,1)\n",
    "img=np.swapaxes(img,1,2)\n",
    "plt.imshow(img)\n",
    "i+=500"
   ]
  },
  {
   "cell_type": "code",
   "execution_count": null,
   "id": "741dfec1",
   "metadata": {},
   "outputs": [],
   "source": []
  },
  {
   "cell_type": "code",
   "execution_count": 159,
   "id": "f2d6cf2a",
   "metadata": {},
   "outputs": [],
   "source": [
    "def get_dataset_cifar():\n",
    "    \"\"\"Returns (ds_train, ds_test) with augmentations on training set.\n",
    "    \"\"\"\n",
    "    T = torchvision.transforms\n",
    "    aug_pad = 4\n",
    "    aug_dim = 32 + aug_pad * 2\n",
    "    ds_train = torchvision.datasets.CIFAR10('CIFAR10_PATH', train=True,\n",
    "            transform=T.Compose([\n",
    "                T.ToTensor(),\n",
    "                T.Lambda(lambda tensor:\n",
    "                    torch.nn.functional.pad(\n",
    "                        tensor.view(1, 3, 32, 32),\n",
    "                        (aug_pad,)*4,\n",
    "                        'replicate').view(3, aug_dim, aug_dim)),\n",
    "                T.ToPILImage(),\n",
    "                T.RandomHorizontalFlip(),\n",
    "                T.RandomCrop((32, 32)),\n",
    "                T.ToTensor(),\n",
    "            ]))\n",
    "    ds_test = torchvision.datasets.CIFAR10('CIFAR10_PATH', train=False,\n",
    "            transform=torchvision.transforms.ToTensor())\n",
    "    return ds_train, ds_test"
   ]
  },
  {
   "cell_type": "code",
   "execution_count": 102,
   "id": "cba92ad6",
   "metadata": {},
   "outputs": [],
   "source": [
    "import numpy as np\n",
    "import matplotlib.pyplot as plt"
   ]
  },
  {
   "cell_type": "code",
   "execution_count": 99,
   "id": "bdb116e7",
   "metadata": {},
   "outputs": [
    {
     "data": {
      "text/plain": [
       "(3, 32, 32)"
      ]
     },
     "execution_count": 99,
     "metadata": {},
     "output_type": "execute_result"
    }
   ],
   "source": [
    "train[0][0].numpy().shape"
   ]
  },
  {
   "cell_type": "code",
   "execution_count": 389,
   "id": "63035923",
   "metadata": {},
   "outputs": [
    {
     "data": {
      "text/plain": [
       "{'airplane': 0,\n",
       " 'automobile': 1,\n",
       " 'bird': 2,\n",
       " 'cat': 3,\n",
       " 'deer': 4,\n",
       " 'dog': 5,\n",
       " 'frog': 6,\n",
       " 'horse': 7,\n",
       " 'ship': 8,\n",
       " 'truck': 9}"
      ]
     },
     "execution_count": 389,
     "metadata": {},
     "output_type": "execute_result"
    }
   ],
   "source": [
    "train.class_to_idx"
   ]
  },
  {
   "cell_type": "code",
   "execution_count": 390,
   "id": "16662f27",
   "metadata": {},
   "outputs": [],
   "source": [
    "i=0"
   ]
  },
  {
   "cell_type": "code",
   "execution_count": 409,
   "id": "5859ed4e",
   "metadata": {},
   "outputs": [
    {
     "name": "stdout",
     "output_type": "stream",
     "text": [
      "4\n"
     ]
    },
    {
     "data": {
      "image/png": "[encoded data removed]",
      "text/plain": [
       "<Figure size 432x288 with 1 Axes>"
      ]
     },
     "metadata": {
      "needs_background": "light"
     },
     "output_type": "display_data"
    }
   ],
   "source": [
    "print(train[i][1])\n",
    "img=train[i][0].numpy()\n",
    "img=np.swapaxes(img,0,1)\n",
    "img=np.swapaxes(img,1,2)\n",
    "plt.imshow(img)\n",
    "i+=500"
   ]
  },
  {
   "cell_type": "code",
   "execution_count": 73,
   "id": "1fac7498",
   "metadata": {},
   "outputs": [],
   "source": [
    "train, test=get_dataset_cifar()"
   ]
  },
  {
   "cell_type": "markdown",
   "id": "d915a56f",
   "metadata": {},
   "source": [
    "### cifar-10"
   ]
  },
  {
   "cell_type": "markdown",
   "id": "9c37a02d",
   "metadata": {},
   "source": [
    "#### 우선 환경변수 부분은 건들지 않도록 해보자."
   ]
  },
  {
   "cell_type": "code",
   "execution_count": null,
   "id": "d20c77f8",
   "metadata": {},
   "outputs": [],
   "source": [
    "# # # CIFAR-10 찾기\n",
    "# # # CIFAR10_PATH에 관한 환경변수가 없다면 None을 반환한다.\n",
    "# # cifar10_path = os.environ.get('CIFAR10_PATH', '')\n",
    "\n",
    "# if not cifar10_path.strip():\n",
    "# #     raise ValueError('Must specify CIFAR10_PATH environment variable.')"
   ]
  },
  {
   "cell_type": "code",
   "execution_count": 3,
   "id": "245adc86",
   "metadata": {},
   "outputs": [],
   "source": [
    "# cifar10_path='CIFAR10_PATH/'\n",
    "\n",
    "# # 경로설정\n",
    "# if not os.path.exists(cifar10_path):\n",
    "#     os.mkdir(cifar10_path)\n",
    "# # dataset 다운로드\n",
    "# if len(os.listdir(cifar10_path))==0:\n",
    "#     torchvision.datasets.CIFAR10(cifar10_path, download=True)\n",
    "\n",
    "# Labels\n",
    "# class_names = ['airplane', 'automobile', 'bird', 'cat', 'deer', 'dog',\n",
    "#         'frog', 'horse', 'ship', 'truck']"
   ]
  },
  {
   "cell_type": "markdown",
   "id": "267c282d",
   "metadata": {},
   "source": [
    "## 커맨드라인 함수"
   ]
  },
  {
   "cell_type": "code",
   "execution_count": null,
   "id": "816b47af",
   "metadata": {},
   "outputs": [],
   "source": []
  },
  {
   "cell_type": "code",
   "execution_count": 18,
   "id": "87368166",
   "metadata": {},
   "outputs": [],
   "source": [
    "@click.group()\n",
    "def main():\n",
    "    \"\"\"Resnet-44 network를 학습하고, 설명하는 함수\"\"\"\n",
    "    \n",
    "\n",
    "    \n",
    "# 특정 path에 대해 Attack and BTR ARAs(Accuracy-Robustness Area)를 구하는 함수 \n",
    "@main.command()\n",
    "@click.argument('path') # argument와 option의 차이점 -->(option은 특성을 더 가진다) )\n",
    "@click.option('--n-images', default=1000, type=int) # --를 붙히는 이유 (option이라? 아마 약속)\n",
    "@click.option('--eps', default=20, type=float) # (... )에 대한 epsilon\n",
    "@click.option('--steps', default=450, type=int) # (... )에 대한 steps\n",
    "@click.option('--momentum', default=0.9, type=float)\n",
    "def calculate_ara(path, n_images, eps, steps, momentum):\n",
    "    \"\"\"Calculates the Attack and BTR Accuracy-Robustness Areas (ARAs) for\n",
    "    PATH.\n",
    "\n",
    "    Options:\n",
    "\n",
    "        --n-images: Number of images to use for the ARA calculation.  Defaults\n",
    "                to 1000.\n",
    "\n",
    "        --eps: Maximum perturbation to apply.  May be greater than 1; per\n",
    "                Algorithm 1, many of the steps taken will minimize the\n",
    "                perturbation magnitude instead of decreasing confidence in the\n",
    "                correct class.  Defaults to 450*.1*.5 = 20, which is about what\n",
    "                the paper used.\n",
    "\n",
    "        --steps: Number of steps to use in determining the lowest-magnitude\n",
    "                perturbation which results in a change of either accuracy or\n",
    "                BTR, based on the ARA being calculated.  Defaults to 450.\n",
    "\n",
    "        --momentum: If using fewer than 100 ``steps``, probably best to disable\n",
    "                momentum by setting it to zero.  Defaults to 0.9.\n",
    "\n",
    "    \"\"\"\n",
    "    # Set up model\n",
    "    m = _model_load(path)\n",
    "\n",
    "    device = torch.device('cpu')\n",
    "    if torch.cuda.device_count() > 0:\n",
    "        device = torch.device('cuda')\n",
    "        m = m.to(device)\n",
    "        m = torch.nn.DataParallel(m)\n",
    "\n",
    "    m.eval()\n",
    "\n",
    "    # Set up dataset based on first --n-images of random test-set permutation\n",
    "    ds_train, ds_test = _get_dataset()\n",
    "    state = torch.get_rng_state()\n",
    "    torch.manual_seed(1776)\n",
    "    idx_all = [int(i) for i in torch.randperm(len(ds_test))]\n",
    "    torch.set_rng_state(state)\n",
    "    ds_test = torch.utils.data.dataset.Subset(ds_test, idx_all[:n_images])\n",
    "\n",
    "    for ara_name, ara_type in [('Attack', True), ('BTR', 'btr')]:\n",
    "        batch_size = TRAIN_BATCHSIZE * max(1, torch.cuda.device_count())\n",
    "        test_loader = torch.utils.data.DataLoader(ds_test, batch_size=batch_size,\n",
    "                shuffle=False, num_workers=8, drop_last=False)\n",
    "\n",
    "        n = 0\n",
    "        diffs = []\n",
    "        for batch in test_loader:\n",
    "            images, labels = batch\n",
    "            images = images.to(device)\n",
    "            labels = labels.to(device)\n",
    "            n += images.size(0)\n",
    "\n",
    "            advs = _adv_images(m, images, labels, AdversarialOptions(\n",
    "                    steps=steps, eps=eps, eps_overshoot=1, use_l2min=ara_type,\n",
    "                    momentum=momentum))\n",
    "            mags = advs.sub_(images).pow_(2).mean((1, 2, 3)).sqrt_()\n",
    "            diffs.extend(mags.tolist())\n",
    "            print('.', end='', flush=True)\n",
    "        print('')\n",
    "        assert n == n_images\n",
    "        assert n == len(diffs)\n",
    "\n",
    "        # Convert from perturbations to percentages\n",
    "        naive_guess = 1. / m.module.training_options['arch'][-1]\n",
    "        diffs = torch.Tensor(diffs)\n",
    "        bins = 1000\n",
    "        diff_max = diffs.max().item()\n",
    "        hist = diffs.histc(bins, min=0, max=diff_max)\n",
    "        gap = diff_max / bins\n",
    "        ara = gap * (1 - hist.cumsum(0) / n_images).add_(-naive_guess).clamp_(min=0).sum()\n",
    "        print(f'{ara_name} ARA: {ara}')\n",
    "\n"
   ]
  },
  {
   "cell_type": "markdown",
   "id": "318b9e3d",
   "metadata": {},
   "source": [
    "### 설명 함수"
   ]
  },
  {
   "cell_type": "code",
   "execution_count": 19,
   "id": "f80044f3",
   "metadata": {},
   "outputs": [
    {
     "data": {
      "text/plain": [
       "8"
      ]
     },
     "execution_count": 19,
     "metadata": {},
     "output_type": "execute_result"
    }
   ],
   "source": [
    "torch.cuda.device_count()"
   ]
  },
  {
   "cell_type": "code",
   "execution_count": 21,
   "id": "f2a88ea5",
   "metadata": {},
   "outputs": [
    {
     "ename": "IndentationError",
     "evalue": "unindent does not match any outer indentation level (<tokenize>, line 35)",
     "output_type": "error",
     "traceback": [
      "\u001b[0;36m  File \u001b[0;32m\"<tokenize>\"\u001b[0;36m, line \u001b[0;32m35\u001b[0m\n\u001b[0;31m    \"\"\"\u001b[0m\n\u001b[0m    ^\u001b[0m\n\u001b[0;31mIndentationError\u001b[0m\u001b[0;31m:\u001b[0m unindent does not match any outer indentation level\n"
     ]
    }
   ],
   "source": [
    "@main.command() # main은 여전히 위에서 정의한 main 함수이다. \n",
    "@click.argument('path')\n",
    "@click.option('--eps', default=0.1) # (...)에 대한 epsilon\n",
    "def explain(path, eps):\n",
    "    \"\"\"CIFAR-10 dataset의 첫 10개 test example에 대한 설명\n",
    "    \n",
    "    output/에 우선적으로 저장한다.\"\"\"\n",
    "    \n",
    "    output_dir='output'\n",
    "    \n",
    "    # output 폴더 내 하위 폴더, 파일을 모두 삭제 (굳이 os 말고 이걸 쓰는 이유는? 깔끔한 삭제일 듯)\n",
    "    try:\n",
    "        shutil.rmtree(output_dir)\n",
    "    except FileNotFoundError:\n",
    "        pass\n",
    "    \n",
    "    ds_train, ds_test=_get_dataset() # 아래에서 정의, tensor 형태로 저장\n",
    "    m= _model_load(path) # static, 아래에서 정의. \n",
    "    \n",
    "    # Determine cuda status\n",
    "    \n",
    "    device=torch.device('cpu') # 우선 cpu 설정\n",
    "    if torch.cuda.device_count() > 0: # gpu 이용 가능할 시 (cuda 잡혀있음)\n",
    "        device = torch.device('cuda') \n",
    "        m=m.to(device) # 모델을 device로 보내준다.\n",
    "        # small-bath explanations에 대해 Multi-GPU는 더 느리다.\n",
    "        #m=torch.nn.DataParallel(m)\n",
    "    \n",
    "    # Explanation 생성\n",
    "    \n",
    "    m.eval() # 추론 실행 전에 드롭 아웃 및 배치 정규화를 평가 모드로 설정해야 한다. \n",
    "    \n",
    "    for i in range(10): #1개\n",
    "        img, label = ds_test[i]\n",
    "      \"\"\"\n",
    "      이는 논문 외 적인 코드이므로 이후에 작성.\n",
    "      \n",
    "      \n",
    "      \n",
    "      \n",
    "      \n",
    "      \"\"\"\n",
    "    \n",
    "        \n",
    "    "
   ]
  },
  {
   "cell_type": "markdown",
   "id": "26f25882",
   "metadata": {},
   "source": [
    "### Adversarial 학습"
   ]
  },
  {
   "cell_type": "code",
   "execution_count": 22,
   "id": "cdb2eccd",
   "metadata": {},
   "outputs": [],
   "source": [
    "@main.command()\n",
    "@click.argument('path')\n",
    "@click.option('--adversarial-training/--no-adversarial-training', default=False)\n",
    "@click.option('--l2-min/--no-l2-min', default=False)\n",
    "@click.option('--robust-additions/--no-robust-additions', default=False)\n",
    "def train(path, **training_options):\n",
    "    \"\"\"Trains a network and saves the result at PATH.\n",
    "\n",
    "    Options:\n",
    "\n",
    "        --adversarial-training: Train the network using adversarial examples.\n",
    "                By default, the adversarial examples are generated using a\n",
    "                standard \"L_2\" loss function and an epsilon of 0.01.\n",
    "\n",
    "        --l2-min: Only valid with --adversarial-training.  If specified, use\n",
    "                the \"L_{2,min}\"  method of generating adversarial examples,\n",
    "                with an epsilon of 0.1. #적대적 학습의 L2 min. \n",
    "\n",
    "        --robust-additions: Train with the best settings of the other\n",
    "                modifications in the paper, including: defense via Lipschitz\n",
    "                Continuity with \"L_{adv,z=2}\", \"\\zeta = 0.2\" using\n",
    "                \"L_{adv,tandem}\", the Half-Huber ReLU, no output zeroing,\n",
    "                an adaptive \"\\psi\" with \"L_{target}=1.5\", \"k_{\\psi,0}=220\",\n",
    "                \"k_{\\psi}=\\ln 0.02\", \"\\epsilon_{better}=1\",\n",
    "                \"\\epsilon_{worse}=0.01\", and half-half adversarial training when\n",
    "                also using adversarial training.\n",
    "    \"\"\"\n",
    "    ds_train, ds_test = _get_dataset()\n",
    "    training_options['arch'] = MODEL_ARCH # 모델 구조\n",
    "    training_options['input_offset'] = MODEL_INPUT_OFFSET # data input의 평균, 분산 차이\n",
    "    m = model.Model(training_options) # model.MODEL : RESNET model.\n",
    "\n",
    "    # GPU의 개수를 정하고, 이에 따라 batch size와 learn rate을 설정하자.\n",
    "    g = max(torch.cuda.device_count(), 1)\n",
    "    batch_size = TRAIN_BATCHSIZE * g\n",
    "    opt = torch.optim.SGD(m.parameters(), lr=TRAIN_LR * g,\n",
    "            momentum=TRAIN_MOMENTUM, weight_decay=TRAIN_WEIGHT_DECAY)\n",
    "    # 이유는 솔직히 잘 모르겠다. ( ... ) \n",
    "    \n",
    "    # Move to GPU (필요하다면)\n",
    "    device = torch.device('cpu')\n",
    "    m_orig = m  # Preserve original reference for saving\n",
    "    if torch.cuda.device_count() > 0:\n",
    "        device = torch.device('cuda')\n",
    "        m = m.to(device)\n",
    "        m = torch.nn.DataParallel(m)\n",
    "\n",
    "    # 훈련 Loop.\n",
    "    # ds_train은 dataset의 transform을 통해 Tensor로 바뀐 형태이다. \n",
    "    # train은 augmentation을 위한 패딩, RandomFlip, RandomCrop 등이 적용됐다.\n",
    "    train_loader = torch.utils.data.DataLoader(ds_train, batch_size=batch_size,\n",
    "            shuffle=True, num_workers=8, drop_last=False)\n",
    "    test_loader = torch.utils.data.DataLoader(ds_test, batch_size=batch_size,\n",
    "            shuffle=False, num_workers=8, drop_last=False)\n",
    "    # num_workers = ( ... )\n",
    "    for epoch in range(max(TRAIN_EPOCHS)):\n",
    "        print(f'== {epoch} ==')\n",
    "        # Update learning rate\n",
    "        lr = TRAIN_LR * g # gpu개수\n",
    "        \n",
    "        for e in TRAIN_EPOCHS: # epoch이 진행될수록 학습률 낮추기. \n",
    "            if epoch >= e:\n",
    "                lr *= 0.1\n",
    "        for pg in opt.param_groups: # optimizer 학습률 반영\n",
    "            pg['lr'] = lr\n",
    "\n",
    "        #  training on batch\n",
    "        m.train() # m.eval()과 비슷한 선언. (...)\n",
    "        n = 0\n",
    "        loss = 0.\n",
    "        for batch in train_loader:\n",
    "            images, labels = batch\n",
    "            images = images.to(device)\n",
    "            labels = labels.to(device)\n",
    "            n += images.size(0)\n",
    "\n",
    "            if training_options['adversarial_training']:\n",
    "                adv_opts = AdversarialOptions(\n",
    "                        use_l2min=training_options['l2_min'],\n",
    "                        eps=0.1 if training_options['l2_min'] else 0.01,\n",
    "                        use_half_and_half=training_options['robust_additions'],\n",
    "                        ensure_proper_minimization=False,\n",
    "                )\n",
    "                \n",
    "                ##############################메인\n",
    "                \n",
    "                images = _adv_images(m, images, labels, adv_opts) \n",
    "                \n",
    "                ########################################\n",
    "            stats = _model_train_batch(m, training_options, opt, images,\n",
    "                    labels)\n",
    "            loss += stats['class_loss_sum']\n",
    "            if ONE_BATCH_ONLY:\n",
    "                break\n",
    "        print(f'Loss: {loss / n:.4f}')\n",
    "        if training_options['robust_additions']:\n",
    "            print(f'Psi: {_model_robust_get_psi(training_options[\"robust_integration\"]):.1f}')\n",
    "\n",
    "        _model_save(path, m_orig, training_options)\n",
    "\n",
    "    # test 실행.\n",
    "    stats = _model_evaluate(m, test_loader)\n",
    "    print(\"Testing statistics:\")\n",
    "    for k, v in stats.items():\n",
    "        print(f'{k}: {v}')\n",
    "\n"
   ]
  },
  {
   "cell_type": "markdown",
   "id": "949e1bcf",
   "metadata": {},
   "source": [
    "### 적대적이미지 생성"
   ]
  },
  {
   "cell_type": "code",
   "execution_count": 23,
   "id": "49aca9cb",
   "metadata": {},
   "outputs": [],
   "source": [
    "class AdversarialOptions:\n",
    "    encourage_labels = False  # True for explanations\n",
    "    eps = 0.1 #(...)\n",
    "    eps_overshoot = 1.  # Multiplier for step size; if > 1, uses g_explain (...)\n",
    "    momentum = 0  # Momentum for generating the explanations; with a large\n",
    "                  # step count, this is useful.  Otherwise not very useful.\n",
    "    steps = 7\n",
    "    use_half_and_half = False\n",
    "    use_l2min = False\n",
    "    ensure_proper_minimization = True\n",
    "    # For explanations and ARA calculations, ensure_proper_minimization serves\n",
    "    # as a sanity check.  Basically, it checks that an adversarial example\n",
    "    # satisfying the criteria is found prior to half the number of optimization\n",
    "    # steps taken, ensuring that some number of the remaining steps are used\n",
    "    # for minimizing the perturbation.\n",
    "    \n",
    "     # 설명이나 ARA 계산을 위해서 enusre_proper_minimization은 sanity check 역할.\n",
    "    # 기본적으로, 이는 기준을 만족하는 adversarial example이 optimization steps의 절반 이전에서\n",
    "    # 발견되는 지를 체크하고, 이는 남은 steps이 perturbation을 minimizing하는 데 쓰이는 걸 확인한다.\n",
    "    # 오류방지.\n",
    "    def __init__(self, **kw):\n",
    "        for k, v in kw.items():\n",
    "            if not hasattr(AdversarialOptions, k):\n",
    "                raise ValueError(k)\n",
    "            setattr(self, k, v)\n"
   ]
  },
  {
   "cell_type": "code",
   "execution_count": 24,
   "id": "8a53e57c",
   "metadata": {},
   "outputs": [],
   "source": [
    "training_options={'adversarial_training':True, 'l2_min':True, 'robust_additions':True}\n",
    "training_options['arch']=MODEL_ARCH\n",
    "training_options['input_offset']=MODEL_INPUT_OFFSET\n"
   ]
  },
  {
   "cell_type": "code",
   "execution_count": 25,
   "id": "a3fbdae4",
   "metadata": {},
   "outputs": [],
   "source": [
    "adv_opts=AdversarialOptions(\n",
    "                        use_l2min=training_options['l2_min'],\n",
    "                        eps=0.1 if training_options['l2_min'] else 0.01,\n",
    "                        use_half_and_half=training_options['robust_additions'],\n",
    "                        ensure_proper_minimization=False,\n",
    "                )"
   ]
  },
  {
   "cell_type": "code",
   "execution_count": 26,
   "id": "2001834b",
   "metadata": {},
   "outputs": [],
   "source": [
    "ds_train, ds_test = _get_dataset()\n"
   ]
  },
  {
   "cell_type": "code",
   "execution_count": 27,
   "id": "901e51a3",
   "metadata": {},
   "outputs": [],
   "source": [
    "m=model.Model(training_options)\n",
    "g=1\n",
    "batch_size=TRAIN_BATCHSIZE*g\n",
    "opt=torch.optim.SGD(m.parameters(), lr=TRAIN_LR*g, momentum=TRAIN_MOMENTUM, weight_decay=TRAIN_WEIGHT_DECAY)\n"
   ]
  },
  {
   "cell_type": "code",
   "execution_count": 28,
   "id": "4edf7051",
   "metadata": {},
   "outputs": [],
   "source": [
    "device=torch.device('cpu')\n",
    "m_orig=m\n",
    "if torch.cuda.device_count()>0:\n",
    "    device=torch.device('cuda')\n",
    "    m=m.to(device)\n",
    "    m=torch.nn.DataParallel(m)\n",
    "    "
   ]
  },
  {
   "cell_type": "code",
   "execution_count": 29,
   "id": "8cfaabb1",
   "metadata": {},
   "outputs": [],
   "source": [
    "train_loader = torch.utils.data.DataLoader(ds_train, batch_size=batch_size,\n",
    "            shuffle=True, num_workers=8, drop_last=False)\n",
    "test_loader = torch.utils.data.DataLoader(ds_test, batch_size=batch_size,\n",
    "        shuffle=False, num_workers=8, drop_last=False)"
   ]
  },
  {
   "cell_type": "code",
   "execution_count": 30,
   "id": "27e7ae5f",
   "metadata": {
    "scrolled": true
   },
   "outputs": [
    {
     "name": "stdout",
     "output_type": "stream",
     "text": [
      "torch.utils.data.dataloader.DataLoader\n"
     ]
    }
   ],
   "source": [
    "print(type(train_loader))"
   ]
  },
  {
   "cell_type": "code",
   "execution_count": 32,
   "id": "7aa09b1d",
   "metadata": {},
   "outputs": [],
   "source": [
    "n=0\n",
    "loss=0\n"
   ]
  },
  {
   "cell_type": "code",
   "execution_count": 33,
   "id": "24628ec6",
   "metadata": {},
   "outputs": [],
   "source": [
    "test_batch=next(iter(train_loader))"
   ]
  },
  {
   "cell_type": "code",
   "execution_count": 34,
   "id": "d3428336",
   "metadata": {},
   "outputs": [],
   "source": [
    "images, labels =test_batch # batchsize는 128인데 images의 size는 80인 이유? 128*390 + 80 = 50000. 즉, 남는 80개부터 배치(확인완료)\n",
    "images = images.to(device)\n",
    "labels = labels.to(device)"
   ]
  },
  {
   "cell_type": "code",
   "execution_count": 35,
   "id": "de251774",
   "metadata": {},
   "outputs": [
    {
     "name": "stdout",
     "output_type": "stream",
     "text": [
      "torch.Size([128, 3, 32, 32])\n",
      "torch.Size([128])\n"
     ]
    }
   ],
   "source": [
    "print(images.shape)\n",
    "print(labels.shape)"
   ]
  },
  {
   "cell_type": "code",
   "execution_count": 36,
   "id": "496dbdf3",
   "metadata": {},
   "outputs": [],
   "source": [
    "n += images.size(0)"
   ]
  },
  {
   "cell_type": "markdown",
   "id": "48257a4c",
   "metadata": {},
   "source": [
    "#### 메인"
   ]
  },
  {
   "cell_type": "code",
   "execution_count": 37,
   "id": "75755b98",
   "metadata": {},
   "outputs": [],
   "source": [
    "# for     images = _adv_images(m, images, labels, adv_opts)"
   ]
  },
  {
   "cell_type": "code",
   "execution_count": 38,
   "id": "36cc5907",
   "metadata": {},
   "outputs": [],
   "source": [
    "# opts : adv_opts"
   ]
  },
  {
   "cell_type": "code",
   "execution_count": 39,
   "id": "970d8f93",
   "metadata": {},
   "outputs": [
    {
     "name": "stdout",
     "output_type": "stream",
     "text": [
      "Help on AdversarialOptions in module __main__ object:\n",
      "\n",
      "class AdversarialOptions(builtins.object)\n",
      " |  Methods defined here:\n",
      " |  \n",
      " |  __init__(self, **kw)\n",
      " |      Initialize self.  See help(type(self)) for accurate signature.\n",
      " |  \n",
      " |  ----------------------------------------------------------------------\n",
      " |  Data descriptors defined here:\n",
      " |  \n",
      " |  __dict__\n",
      " |      dictionary for instance variables (if defined)\n",
      " |  \n",
      " |  __weakref__\n",
      " |      list of weak references to the object (if defined)\n",
      " |  \n",
      " |  ----------------------------------------------------------------------\n",
      " |  Data and other attributes defined here:\n",
      " |  \n",
      " |  encourage_labels = False\n",
      " |  \n",
      " |  ensure_proper_minimization = True\n",
      " |  \n",
      " |  eps = 0.1\n",
      " |  \n",
      " |  eps_overshoot = 1.0\n",
      " |  \n",
      " |  momentum = 0\n",
      " |  \n",
      " |  steps = 7\n",
      " |  \n",
      " |  use_half_and_half = False\n",
      " |  \n",
      " |  use_l2min = False\n",
      "\n"
     ]
    }
   ],
   "source": [
    "help(adv_opts)"
   ]
  },
  {
   "cell_type": "code",
   "execution_count": 40,
   "id": "da9d72f6",
   "metadata": {},
   "outputs": [],
   "source": [
    "images=images.detach()\n",
    "deltas=images.new_zeros(images.size()).requires_grad_()"
   ]
  },
  {
   "cell_type": "code",
   "execution_count": 41,
   "id": "99cff27f",
   "metadata": {},
   "outputs": [],
   "source": [
    "if adv_opts.use_half_and_half:\n",
    "    affected=torch.rand(images.size(0), 1, 1, 1, device=images.device)\n",
    "    affected=(affected<0.5).float()\n",
    "else:\n",
    "    affected=torch.ones(images.size(0), 1, 1, 1, device=images.device)"
   ]
  },
  {
   "cell_type": "code",
   "execution_count": 42,
   "id": "a0c2a03e",
   "metadata": {},
   "outputs": [],
   "source": [
    "target_labels=labels\n",
    "target_encourage=False\n"
   ]
  },
  {
   "cell_type": "code",
   "execution_count": 43,
   "id": "f65a165c",
   "metadata": {},
   "outputs": [
    {
     "data": {
      "text/plain": [
       "0.1"
      ]
     },
     "execution_count": 43,
     "metadata": {},
     "output_type": "execute_result"
    }
   ],
   "source": [
    "adv_opts.eps"
   ]
  },
  {
   "cell_type": "code",
   "execution_count": 44,
   "id": "f7d99e92",
   "metadata": {},
   "outputs": [
    {
     "name": "stdout",
     "output_type": "stream",
     "text": [
      "0.1\n"
     ]
    }
   ],
   "source": [
    "size=adv_opts.eps*adv_opts.eps_overshoot\n",
    "print(size)"
   ]
  },
  {
   "cell_type": "code",
   "execution_count": 45,
   "id": "17140c0b",
   "metadata": {},
   "outputs": [],
   "source": [
    "mom=images.new_zeros(images.size()) # moment?( .., )"
   ]
  },
  {
   "cell_type": "code",
   "execution_count": 46,
   "id": "74356daf",
   "metadata": {},
   "outputs": [
    {
     "data": {
      "text/plain": [
       "True"
      ]
     },
     "execution_count": 46,
     "metadata": {},
     "output_type": "execute_result"
    }
   ],
   "source": [
    "adv_opts.use_l2min"
   ]
  },
  {
   "cell_type": "code",
   "execution_count": 47,
   "id": "45db89dc",
   "metadata": {},
   "outputs": [],
   "source": [
    "track_best=True if adv_opts.use_l2min else False\n",
    "extra_steps=1 if track_best else 0 "
   ]
  },
  {
   "cell_type": "code",
   "execution_count": 48,
   "id": "d35adb63",
   "metadata": {},
   "outputs": [],
   "source": [
    "if track_best:\n",
    "    # Also track the first step at which results were OK, and the\n",
    "    # lowest-perturbation delta.\n",
    "    best_ok_deltas = torch.zeros_like(images) # 이미지 텐서와 같은 0 tensor \n",
    "    # batch size의 0 tensor.. \n",
    "    best_ok_deltas_sqr = images.new_zeros(images.size(0)).fill_(1e30) # size로 "
   ]
  },
  {
   "cell_type": "code",
   "execution_count": 50,
   "id": "ac6f4c67",
   "metadata": {},
   "outputs": [
    {
     "data": {
      "text/plain": [
       "tensor([[[[0., 0., 0.,  ..., 0., 0., 0.],\n",
       "          [0., 0., 0.,  ..., 0., 0., 0.],\n",
       "          [0., 0., 0.,  ..., 0., 0., 0.],\n",
       "          ...,\n",
       "          [0., 0., 0.,  ..., 0., 0., 0.],\n",
       "          [0., 0., 0.,  ..., 0., 0., 0.],\n",
       "          [0., 0., 0.,  ..., 0., 0., 0.]],\n",
       "\n",
       "         [[0., 0., 0.,  ..., 0., 0., 0.],\n",
       "          [0., 0., 0.,  ..., 0., 0., 0.],\n",
       "          [0., 0., 0.,  ..., 0., 0., 0.],\n",
       "          ...,\n",
       "          [0., 0., 0.,  ..., 0., 0., 0.],\n",
       "          [0., 0., 0.,  ..., 0., 0., 0.],\n",
       "          [0., 0., 0.,  ..., 0., 0., 0.]],\n",
       "\n",
       "         [[0., 0., 0.,  ..., 0., 0., 0.],\n",
       "          [0., 0., 0.,  ..., 0., 0., 0.],\n",
       "          [0., 0., 0.,  ..., 0., 0., 0.],\n",
       "          ...,\n",
       "          [0., 0., 0.,  ..., 0., 0., 0.],\n",
       "          [0., 0., 0.,  ..., 0., 0., 0.],\n",
       "          [0., 0., 0.,  ..., 0., 0., 0.]]],\n",
       "\n",
       "\n",
       "        [[[0., 0., 0.,  ..., 0., 0., 0.],\n",
       "          [0., 0., 0.,  ..., 0., 0., 0.],\n",
       "          [0., 0., 0.,  ..., 0., 0., 0.],\n",
       "          ...,\n",
       "          [0., 0., 0.,  ..., 0., 0., 0.],\n",
       "          [0., 0., 0.,  ..., 0., 0., 0.],\n",
       "          [0., 0., 0.,  ..., 0., 0., 0.]],\n",
       "\n",
       "         [[0., 0., 0.,  ..., 0., 0., 0.],\n",
       "          [0., 0., 0.,  ..., 0., 0., 0.],\n",
       "          [0., 0., 0.,  ..., 0., 0., 0.],\n",
       "          ...,\n",
       "          [0., 0., 0.,  ..., 0., 0., 0.],\n",
       "          [0., 0., 0.,  ..., 0., 0., 0.],\n",
       "          [0., 0., 0.,  ..., 0., 0., 0.]],\n",
       "\n",
       "         [[0., 0., 0.,  ..., 0., 0., 0.],\n",
       "          [0., 0., 0.,  ..., 0., 0., 0.],\n",
       "          [0., 0., 0.,  ..., 0., 0., 0.],\n",
       "          ...,\n",
       "          [0., 0., 0.,  ..., 0., 0., 0.],\n",
       "          [0., 0., 0.,  ..., 0., 0., 0.],\n",
       "          [0., 0., 0.,  ..., 0., 0., 0.]]],\n",
       "\n",
       "\n",
       "        [[[0., 0., 0.,  ..., 0., 0., 0.],\n",
       "          [0., 0., 0.,  ..., 0., 0., 0.],\n",
       "          [0., 0., 0.,  ..., 0., 0., 0.],\n",
       "          ...,\n",
       "          [0., 0., 0.,  ..., 0., 0., 0.],\n",
       "          [0., 0., 0.,  ..., 0., 0., 0.],\n",
       "          [0., 0., 0.,  ..., 0., 0., 0.]],\n",
       "\n",
       "         [[0., 0., 0.,  ..., 0., 0., 0.],\n",
       "          [0., 0., 0.,  ..., 0., 0., 0.],\n",
       "          [0., 0., 0.,  ..., 0., 0., 0.],\n",
       "          ...,\n",
       "          [0., 0., 0.,  ..., 0., 0., 0.],\n",
       "          [0., 0., 0.,  ..., 0., 0., 0.],\n",
       "          [0., 0., 0.,  ..., 0., 0., 0.]],\n",
       "\n",
       "         [[0., 0., 0.,  ..., 0., 0., 0.],\n",
       "          [0., 0., 0.,  ..., 0., 0., 0.],\n",
       "          [0., 0., 0.,  ..., 0., 0., 0.],\n",
       "          ...,\n",
       "          [0., 0., 0.,  ..., 0., 0., 0.],\n",
       "          [0., 0., 0.,  ..., 0., 0., 0.],\n",
       "          [0., 0., 0.,  ..., 0., 0., 0.]]],\n",
       "\n",
       "\n",
       "        ...,\n",
       "\n",
       "\n",
       "        [[[0., 0., 0.,  ..., 0., 0., 0.],\n",
       "          [0., 0., 0.,  ..., 0., 0., 0.],\n",
       "          [0., 0., 0.,  ..., 0., 0., 0.],\n",
       "          ...,\n",
       "          [0., 0., 0.,  ..., 0., 0., 0.],\n",
       "          [0., 0., 0.,  ..., 0., 0., 0.],\n",
       "          [0., 0., 0.,  ..., 0., 0., 0.]],\n",
       "\n",
       "         [[0., 0., 0.,  ..., 0., 0., 0.],\n",
       "          [0., 0., 0.,  ..., 0., 0., 0.],\n",
       "          [0., 0., 0.,  ..., 0., 0., 0.],\n",
       "          ...,\n",
       "          [0., 0., 0.,  ..., 0., 0., 0.],\n",
       "          [0., 0., 0.,  ..., 0., 0., 0.],\n",
       "          [0., 0., 0.,  ..., 0., 0., 0.]],\n",
       "\n",
       "         [[0., 0., 0.,  ..., 0., 0., 0.],\n",
       "          [0., 0., 0.,  ..., 0., 0., 0.],\n",
       "          [0., 0., 0.,  ..., 0., 0., 0.],\n",
       "          ...,\n",
       "          [0., 0., 0.,  ..., 0., 0., 0.],\n",
       "          [0., 0., 0.,  ..., 0., 0., 0.],\n",
       "          [0., 0., 0.,  ..., 0., 0., 0.]]],\n",
       "\n",
       "\n",
       "        [[[0., 0., 0.,  ..., 0., 0., 0.],\n",
       "          [0., 0., 0.,  ..., 0., 0., 0.],\n",
       "          [0., 0., 0.,  ..., 0., 0., 0.],\n",
       "          ...,\n",
       "          [0., 0., 0.,  ..., 0., 0., 0.],\n",
       "          [0., 0., 0.,  ..., 0., 0., 0.],\n",
       "          [0., 0., 0.,  ..., 0., 0., 0.]],\n",
       "\n",
       "         [[0., 0., 0.,  ..., 0., 0., 0.],\n",
       "          [0., 0., 0.,  ..., 0., 0., 0.],\n",
       "          [0., 0., 0.,  ..., 0., 0., 0.],\n",
       "          ...,\n",
       "          [0., 0., 0.,  ..., 0., 0., 0.],\n",
       "          [0., 0., 0.,  ..., 0., 0., 0.],\n",
       "          [0., 0., 0.,  ..., 0., 0., 0.]],\n",
       "\n",
       "         [[0., 0., 0.,  ..., 0., 0., 0.],\n",
       "          [0., 0., 0.,  ..., 0., 0., 0.],\n",
       "          [0., 0., 0.,  ..., 0., 0., 0.],\n",
       "          ...,\n",
       "          [0., 0., 0.,  ..., 0., 0., 0.],\n",
       "          [0., 0., 0.,  ..., 0., 0., 0.],\n",
       "          [0., 0., 0.,  ..., 0., 0., 0.]]],\n",
       "\n",
       "\n",
       "        [[[0., 0., 0.,  ..., 0., 0., 0.],\n",
       "          [0., 0., 0.,  ..., 0., 0., 0.],\n",
       "          [0., 0., 0.,  ..., 0., 0., 0.],\n",
       "          ...,\n",
       "          [0., 0., 0.,  ..., 0., 0., 0.],\n",
       "          [0., 0., 0.,  ..., 0., 0., 0.],\n",
       "          [0., 0., 0.,  ..., 0., 0., 0.]],\n",
       "\n",
       "         [[0., 0., 0.,  ..., 0., 0., 0.],\n",
       "          [0., 0., 0.,  ..., 0., 0., 0.],\n",
       "          [0., 0., 0.,  ..., 0., 0., 0.],\n",
       "          ...,\n",
       "          [0., 0., 0.,  ..., 0., 0., 0.],\n",
       "          [0., 0., 0.,  ..., 0., 0., 0.],\n",
       "          [0., 0., 0.,  ..., 0., 0., 0.]],\n",
       "\n",
       "         [[0., 0., 0.,  ..., 0., 0., 0.],\n",
       "          [0., 0., 0.,  ..., 0., 0., 0.],\n",
       "          [0., 0., 0.,  ..., 0., 0., 0.],\n",
       "          ...,\n",
       "          [0., 0., 0.,  ..., 0., 0., 0.],\n",
       "          [0., 0., 0.,  ..., 0., 0., 0.],\n",
       "          [0., 0., 0.,  ..., 0., 0., 0.]]]], device='cuda:0',\n",
       "       requires_grad=True)"
      ]
     },
     "execution_count": 50,
     "metadata": {},
     "output_type": "execute_result"
    }
   ],
   "source": [
    "deltas"
   ]
  },
  {
   "cell_type": "code",
   "execution_count": 51,
   "id": "a58a3910",
   "metadata": {},
   "outputs": [],
   "source": [
    "guesses=m(images+deltas)"
   ]
  },
  {
   "cell_type": "code",
   "execution_count": 52,
   "id": "6198cf6b",
   "metadata": {},
   "outputs": [
    {
     "name": "stdout",
     "output_type": "stream",
     "text": [
      "torch.Size([128, 10])\n"
     ]
    }
   ],
   "source": [
    "print(guesses.size())"
   ]
  },
  {
   "cell_type": "code",
   "execution_count": 53,
   "id": "aa5bd17f",
   "metadata": {},
   "outputs": [
    {
     "data": {
      "text/plain": [
       "tensor([ 3.0266e-01,  4.9181e-01,  6.8617e-03,  4.8616e-03,  1.3202e-01,\n",
       "         1.0858e+00,  1.0398e-01,  9.8926e-01,  3.3431e-01, -1.0808e-03],\n",
       "       device='cuda:0', grad_fn=<SelectBackward>)"
      ]
     },
     "execution_count": 53,
     "metadata": {},
     "output_type": "execute_result"
    }
   ],
   "source": [
    "guesses[0]"
   ]
  },
  {
   "cell_type": "code",
   "execution_count": 54,
   "id": "0fd83bbd",
   "metadata": {},
   "outputs": [
    {
     "data": {
      "text/plain": [
       "tensor([0.0885, 0.1069, 0.0658, 0.0657, 0.0746, 0.1936, 0.0725, 0.1758, 0.0913,\n",
       "        0.0653], device='cuda:0', grad_fn=<SoftmaxBackward>)"
      ]
     },
     "execution_count": 54,
     "metadata": {},
     "output_type": "execute_result"
    }
   ],
   "source": [
    "torch.nn.functional.softmax(guesses[0])"
   ]
  },
  {
   "cell_type": "code",
   "execution_count": 55,
   "id": "3d062346",
   "metadata": {},
   "outputs": [
    {
     "data": {
      "text/plain": [
       "tensor([ 3.0266e-01,  4.9181e-01,  6.8617e-03,  4.8616e-03,  1.3202e-01,\n",
       "         1.0858e+00,  1.0398e-01,  9.8926e-01,  3.3431e-01, -1.0808e-03],\n",
       "       device='cuda:0', grad_fn=<SelectBackward>)"
      ]
     },
     "execution_count": 55,
     "metadata": {},
     "output_type": "execute_result"
    }
   ],
   "source": [
    "guesses[0]"
   ]
  },
  {
   "cell_type": "code",
   "execution_count": 56,
   "id": "72c8e2bb",
   "metadata": {},
   "outputs": [
    {
     "data": {
      "text/plain": [
       "tensor([1, 4, 9, 5, 6, 5, 0, 3, 2, 1, 5, 8, 8, 9, 3, 5, 0, 9, 2, 0, 4, 8, 3, 4,\n",
       "        3, 0, 6, 4, 5, 2, 3, 5, 4, 2, 3, 1, 6, 3, 1, 6, 7, 7, 8, 1, 4, 2, 8, 3,\n",
       "        6, 1, 9, 9, 0, 1, 0, 8, 1, 3, 3, 3, 0, 9, 7, 3, 3, 7, 3, 1, 4, 3, 8, 7,\n",
       "        7, 2, 0, 2, 6, 6, 4, 6, 9, 9, 7, 8, 0, 7, 7, 5, 6, 5, 3, 1, 6, 7, 4, 2,\n",
       "        7, 3, 6, 2, 6, 2, 4, 7, 6, 9, 4, 7, 1, 7, 5, 9, 7, 8, 8, 2, 4, 2, 1, 9,\n",
       "        2, 9, 3, 2, 4, 7, 7, 6], device='cuda:0')"
      ]
     },
     "execution_count": 56,
     "metadata": {},
     "output_type": "execute_result"
    }
   ],
   "source": [
    "target_labels"
   ]
  },
  {
   "cell_type": "code",
   "execution_count": 57,
   "id": "cdcefd22",
   "metadata": {},
   "outputs": [],
   "source": [
    "loss = torch.nn.functional.cross_entropy(guesses, target_labels,\n",
    "                reduction='none')"
   ]
  },
  {
   "cell_type": "code",
   "execution_count": 58,
   "id": "cffe4623",
   "metadata": {},
   "outputs": [],
   "source": [
    "image_grads=torch.autograd.grad(loss.sum(), deltas, retain_graph=True)"
   ]
  },
  {
   "cell_type": "code",
   "execution_count": 59,
   "id": "558b5dd3",
   "metadata": {},
   "outputs": [],
   "source": [
    "image_grads=image_grads[0]"
   ]
  },
  {
   "cell_type": "code",
   "execution_count": 60,
   "id": "b1bb685d",
   "metadata": {},
   "outputs": [],
   "source": [
    "if isinstance(adv_opts.use_l2min, str):\n",
    "    if adv_opts.use_l2min == 'btr':\n",
    "        sm = guesses.softmax(1)\n",
    "        follow_loss = (sm.gather(1, target_labels.unsqueeze(1))[:, 0]\n",
    "                > 1/sm.size(1)).float()\n",
    "    else:\n",
    "        raise NotImplementedError(adv_opts.use_l2min)\n",
    "        \n",
    "elif adv_opts.use_l2min:\n",
    "            # l2_min; aim to be correct\n",
    "            follow_loss = (guesses.argmax(1) == target_labels).float()\n",
    "else:\n",
    "    # Standard l2; aim to be within eps.\n",
    "    follow_loss = (deltas.detach().pow(2).mean((1, 2, 3))\n",
    "            < adv_opts.eps ** 2).float()\n"
   ]
  },
  {
   "cell_type": "code",
   "execution_count": 61,
   "id": "853e1b42",
   "metadata": {},
   "outputs": [
    {
     "data": {
      "text/plain": [
       "tensor([0., 0., 0., 0., 0., 0., 0., 0., 0., 0., 0., 0., 0., 0., 0., 0., 0., 0.,\n",
       "        0., 0., 0., 0., 0., 0., 0., 0., 0., 0., 0., 0., 0., 0., 0., 0., 0., 0.,\n",
       "        0., 0., 0., 0., 0., 0., 0., 0., 0., 0., 0., 0., 0., 0., 0., 0., 0., 0.,\n",
       "        1., 0., 0., 0., 0., 0., 0., 0., 0., 0., 0., 0., 0., 0., 0., 0., 0., 0.,\n",
       "        0., 0., 0., 0., 0., 0., 0., 0., 0., 0., 0., 0., 0., 0., 0., 0., 0., 1.,\n",
       "        0., 0., 0., 0., 0., 0., 0., 0., 0., 0., 0., 0., 0., 0., 0., 0., 0., 0.,\n",
       "        0., 0., 0., 0., 0., 0., 0., 0., 0., 0., 0., 0., 0., 0., 0., 0., 0., 1.,\n",
       "        0., 0.], device='cuda:0')"
      ]
     },
     "execution_count": 61,
     "metadata": {},
     "output_type": "execute_result"
    }
   ],
   "source": [
    "# 예측이 맞은 친구들. 후에 (... )\n",
    "follow_loss"
   ]
  },
  {
   "cell_type": "code",
   "execution_count": 68,
   "id": "5197552d",
   "metadata": {},
   "outputs": [],
   "source": [
    "if track_best: # l2min 사용할 때.\n",
    "    # Track the best perturbation which satisfies the criteria.\n",
    "    ddist = deltas.detach().pow(2).mean((1, 2, 3)) # noise의 L2 mean. (channel, w, h)\n",
    "    \n",
    "    # uncorrect sample  +  noise(delta)가 의 l2 mean이 best 일 때. 즉, 작을 때.\n",
    "    set_best = (follow_loss == 0) * (ddist < best_ok_deltas_sqr) # 예측을 못한 경우\n",
    "    \n",
    "    # 예측도 틀리고, L2 mean도 작은 delta들만 best deltas로 보낸다. \n",
    "    best_ok_deltas[set_best] = deltas.detach()[set_best]\n",
    "    best_ok_deltas_sqr[set_best] = ddist[set_best]"
   ]
  },
  {
   "cell_type": "code",
   "execution_count": 67,
   "id": "f44f5911",
   "metadata": {},
   "outputs": [
    {
     "ename": "SyntaxError",
     "evalue": "'break' outside loop (<ipython-input-67-b7e2bbeb5996>, line 19)",
     "output_type": "error",
     "traceback": [
      "\u001b[0;36m  File \u001b[0;32m\"<ipython-input-67-b7e2bbeb5996>\"\u001b[0;36m, line \u001b[0;32m19\u001b[0m\n\u001b[0;31mSyntaxError\u001b[0m\u001b[0;31m:\u001b[0m 'break' outside loop\n"
     ]
    }
   ],
   "source": []
  },
  {
   "cell_type": "code",
   "execution_count": 72,
   "id": "d2b5ffa9",
   "metadata": {},
   "outputs": [
    {
     "data": {
      "text/plain": [
       "False"
      ]
     },
     "execution_count": 72,
     "metadata": {},
     "output_type": "execute_result"
    }
   ],
   "source": [
    "target_encourage"
   ]
  },
  {
   "cell_type": "code",
   "execution_count": 75,
   "id": "677ce998",
   "metadata": {},
   "outputs": [
    {
     "data": {
      "text/plain": [
       "0.7000000000000001"
      ]
     },
     "execution_count": 75,
     "metadata": {},
     "output_type": "execute_result"
    }
   ],
   "source": [
    "size*(adv_opts.steps-step)"
   ]
  },
  {
   "cell_type": "code",
   "execution_count": null,
   "id": "b2a328be",
   "metadata": {},
   "outputs": [],
   "source": []
  },
  {
   "cell_type": "code",
   "execution_count": 79,
   "id": "51bfe8ac",
   "metadata": {},
   "outputs": [],
   "source": [
    "ss=size*(adv_opts.steps -step) / (adv_opts.steps*(adv_opts.steps+1)/2)"
   ]
  },
  {
   "cell_type": "code",
   "execution_count": 87,
   "id": "f7a5ff11",
   "metadata": {},
   "outputs": [],
   "source": [
    "follow_loss=follow_loss.view(-1,1,1,1)"
   ]
  },
  {
   "cell_type": "code",
   "execution_count": 90,
   "id": "d7a17077",
   "metadata": {},
   "outputs": [
    {
     "data": {
      "text/plain": [
       "tensor([[[[-0., -0., -0.,  ..., -0., -0., -0.],\n",
       "          [-0., -0., -0.,  ..., -0., -0., -0.],\n",
       "          [-0., -0., -0.,  ..., -0., -0., -0.],\n",
       "          ...,\n",
       "          [-0., -0., -0.,  ..., -0., -0., -0.],\n",
       "          [-0., -0., -0.,  ..., -0., -0., -0.],\n",
       "          [-0., -0., -0.,  ..., -0., -0., -0.]],\n",
       "\n",
       "         [[-0., -0., -0.,  ..., -0., -0., -0.],\n",
       "          [-0., -0., -0.,  ..., -0., -0., -0.],\n",
       "          [-0., -0., -0.,  ..., -0., -0., -0.],\n",
       "          ...,\n",
       "          [-0., -0., -0.,  ..., -0., -0., -0.],\n",
       "          [-0., -0., -0.,  ..., -0., -0., -0.],\n",
       "          [-0., -0., -0.,  ..., -0., -0., -0.]],\n",
       "\n",
       "         [[-0., -0., -0.,  ..., -0., -0., -0.],\n",
       "          [-0., -0., -0.,  ..., -0., -0., -0.],\n",
       "          [-0., -0., -0.,  ..., -0., -0., -0.],\n",
       "          ...,\n",
       "          [-0., -0., -0.,  ..., -0., -0., -0.],\n",
       "          [-0., -0., -0.,  ..., -0., -0., -0.],\n",
       "          [-0., -0., -0.,  ..., -0., -0., -0.]]],\n",
       "\n",
       "\n",
       "        [[[-0., -0., -0.,  ..., -0., -0., -0.],\n",
       "          [-0., -0., -0.,  ..., -0., -0., -0.],\n",
       "          [-0., -0., -0.,  ..., -0., -0., -0.],\n",
       "          ...,\n",
       "          [-0., -0., -0.,  ..., -0., -0., -0.],\n",
       "          [-0., -0., -0.,  ..., -0., -0., -0.],\n",
       "          [-0., -0., -0.,  ..., -0., -0., -0.]],\n",
       "\n",
       "         [[-0., -0., -0.,  ..., -0., -0., -0.],\n",
       "          [-0., -0., -0.,  ..., -0., -0., -0.],\n",
       "          [-0., -0., -0.,  ..., -0., -0., -0.],\n",
       "          ...,\n",
       "          [-0., -0., -0.,  ..., -0., -0., -0.],\n",
       "          [-0., -0., -0.,  ..., -0., -0., -0.],\n",
       "          [-0., -0., -0.,  ..., -0., -0., -0.]],\n",
       "\n",
       "         [[-0., -0., -0.,  ..., -0., -0., -0.],\n",
       "          [-0., -0., -0.,  ..., -0., -0., -0.],\n",
       "          [-0., -0., -0.,  ..., -0., -0., -0.],\n",
       "          ...,\n",
       "          [-0., -0., -0.,  ..., -0., -0., -0.],\n",
       "          [-0., -0., -0.,  ..., -0., -0., -0.],\n",
       "          [-0., -0., -0.,  ..., -0., -0., -0.]]],\n",
       "\n",
       "\n",
       "        [[[-0., -0., -0.,  ..., -0., -0., -0.],\n",
       "          [-0., -0., -0.,  ..., -0., -0., -0.],\n",
       "          [-0., -0., -0.,  ..., -0., -0., -0.],\n",
       "          ...,\n",
       "          [-0., -0., -0.,  ..., -0., -0., -0.],\n",
       "          [-0., -0., -0.,  ..., -0., -0., -0.],\n",
       "          [-0., -0., -0.,  ..., -0., -0., -0.]],\n",
       "\n",
       "         [[-0., -0., -0.,  ..., -0., -0., -0.],\n",
       "          [-0., -0., -0.,  ..., -0., -0., -0.],\n",
       "          [-0., -0., -0.,  ..., -0., -0., -0.],\n",
       "          ...,\n",
       "          [-0., -0., -0.,  ..., -0., -0., -0.],\n",
       "          [-0., -0., -0.,  ..., -0., -0., -0.],\n",
       "          [-0., -0., -0.,  ..., -0., -0., -0.]],\n",
       "\n",
       "         [[-0., -0., -0.,  ..., -0., -0., -0.],\n",
       "          [-0., -0., -0.,  ..., -0., -0., -0.],\n",
       "          [-0., -0., -0.,  ..., -0., -0., -0.],\n",
       "          ...,\n",
       "          [-0., -0., -0.,  ..., -0., -0., -0.],\n",
       "          [-0., -0., -0.,  ..., -0., -0., -0.],\n",
       "          [-0., -0., -0.,  ..., -0., -0., -0.]]],\n",
       "\n",
       "\n",
       "        ...,\n",
       "\n",
       "\n",
       "        [[[-0., -0., -0.,  ..., -0., -0., -0.],\n",
       "          [-0., -0., -0.,  ..., -0., -0., -0.],\n",
       "          [-0., -0., -0.,  ..., -0., -0., -0.],\n",
       "          ...,\n",
       "          [-0., -0., -0.,  ..., -0., -0., -0.],\n",
       "          [-0., -0., -0.,  ..., -0., -0., -0.],\n",
       "          [-0., -0., -0.,  ..., -0., -0., -0.]],\n",
       "\n",
       "         [[-0., -0., -0.,  ..., -0., -0., -0.],\n",
       "          [-0., -0., -0.,  ..., -0., -0., -0.],\n",
       "          [-0., -0., -0.,  ..., -0., -0., -0.],\n",
       "          ...,\n",
       "          [-0., -0., -0.,  ..., -0., -0., -0.],\n",
       "          [-0., -0., -0.,  ..., -0., -0., -0.],\n",
       "          [-0., -0., -0.,  ..., -0., -0., -0.]],\n",
       "\n",
       "         [[-0., -0., -0.,  ..., -0., -0., -0.],\n",
       "          [-0., -0., -0.,  ..., -0., -0., -0.],\n",
       "          [-0., -0., -0.,  ..., -0., -0., -0.],\n",
       "          ...,\n",
       "          [-0., -0., -0.,  ..., -0., -0., -0.],\n",
       "          [-0., -0., -0.,  ..., -0., -0., -0.],\n",
       "          [-0., -0., -0.,  ..., -0., -0., -0.]]],\n",
       "\n",
       "\n",
       "        [[[-0., -0., -0.,  ..., -0., -0., -0.],\n",
       "          [-0., -0., -0.,  ..., -0., -0., -0.],\n",
       "          [-0., -0., -0.,  ..., -0., -0., -0.],\n",
       "          ...,\n",
       "          [-0., -0., -0.,  ..., -0., -0., -0.],\n",
       "          [-0., -0., -0.,  ..., -0., -0., -0.],\n",
       "          [-0., -0., -0.,  ..., -0., -0., -0.]],\n",
       "\n",
       "         [[-0., -0., -0.,  ..., -0., -0., -0.],\n",
       "          [-0., -0., -0.,  ..., -0., -0., -0.],\n",
       "          [-0., -0., -0.,  ..., -0., -0., -0.],\n",
       "          ...,\n",
       "          [-0., -0., -0.,  ..., -0., -0., -0.],\n",
       "          [-0., -0., -0.,  ..., -0., -0., -0.],\n",
       "          [-0., -0., -0.,  ..., -0., -0., -0.]],\n",
       "\n",
       "         [[-0., -0., -0.,  ..., -0., -0., -0.],\n",
       "          [-0., -0., -0.,  ..., -0., -0., -0.],\n",
       "          [-0., -0., -0.,  ..., -0., -0., -0.],\n",
       "          ...,\n",
       "          [-0., -0., -0.,  ..., -0., -0., -0.],\n",
       "          [-0., -0., -0.,  ..., -0., -0., -0.],\n",
       "          [-0., -0., -0.,  ..., -0., -0., -0.]]],\n",
       "\n",
       "\n",
       "        [[[-0., -0., -0.,  ..., -0., -0., -0.],\n",
       "          [-0., -0., -0.,  ..., -0., -0., -0.],\n",
       "          [-0., -0., -0.,  ..., -0., -0., -0.],\n",
       "          ...,\n",
       "          [-0., -0., -0.,  ..., -0., -0., -0.],\n",
       "          [-0., -0., -0.,  ..., -0., -0., -0.],\n",
       "          [-0., -0., -0.,  ..., -0., -0., -0.]],\n",
       "\n",
       "         [[-0., -0., -0.,  ..., -0., -0., -0.],\n",
       "          [-0., -0., -0.,  ..., -0., -0., -0.],\n",
       "          [-0., -0., -0.,  ..., -0., -0., -0.],\n",
       "          ...,\n",
       "          [-0., -0., -0.,  ..., -0., -0., -0.],\n",
       "          [-0., -0., -0.,  ..., -0., -0., -0.],\n",
       "          [-0., -0., -0.,  ..., -0., -0., -0.]],\n",
       "\n",
       "         [[-0., -0., -0.,  ..., -0., -0., -0.],\n",
       "          [-0., -0., -0.,  ..., -0., -0., -0.],\n",
       "          [-0., -0., -0.,  ..., -0., -0., -0.],\n",
       "          ...,\n",
       "          [-0., -0., -0.,  ..., -0., -0., -0.],\n",
       "          [-0., -0., -0.,  ..., -0., -0., -0.],\n",
       "          [-0., -0., -0.,  ..., -0., -0., -0.]]]], device='cuda:0')"
      ]
     },
     "execution_count": 90,
     "metadata": {},
     "output_type": "execute_result"
    }
   ],
   "source": [
    "-deltas.detach()"
   ]
  },
  {
   "cell_type": "code",
   "execution_count": 91,
   "id": "297bbbff",
   "metadata": {},
   "outputs": [
    {
     "data": {
      "text/plain": [
       "tensor([[[[1.]]],\n",
       "\n",
       "\n",
       "        [[[1.]]],\n",
       "\n",
       "\n",
       "        [[[1.]]],\n",
       "\n",
       "\n",
       "        [[[1.]]],\n",
       "\n",
       "\n",
       "        [[[1.]]],\n",
       "\n",
       "\n",
       "        [[[1.]]],\n",
       "\n",
       "\n",
       "        [[[1.]]],\n",
       "\n",
       "\n",
       "        [[[1.]]],\n",
       "\n",
       "\n",
       "        [[[1.]]],\n",
       "\n",
       "\n",
       "        [[[1.]]],\n",
       "\n",
       "\n",
       "        [[[1.]]],\n",
       "\n",
       "\n",
       "        [[[1.]]],\n",
       "\n",
       "\n",
       "        [[[1.]]],\n",
       "\n",
       "\n",
       "        [[[1.]]],\n",
       "\n",
       "\n",
       "        [[[1.]]],\n",
       "\n",
       "\n",
       "        [[[1.]]],\n",
       "\n",
       "\n",
       "        [[[1.]]],\n",
       "\n",
       "\n",
       "        [[[1.]]],\n",
       "\n",
       "\n",
       "        [[[1.]]],\n",
       "\n",
       "\n",
       "        [[[1.]]],\n",
       "\n",
       "\n",
       "        [[[1.]]],\n",
       "\n",
       "\n",
       "        [[[1.]]],\n",
       "\n",
       "\n",
       "        [[[1.]]],\n",
       "\n",
       "\n",
       "        [[[1.]]],\n",
       "\n",
       "\n",
       "        [[[1.]]],\n",
       "\n",
       "\n",
       "        [[[1.]]],\n",
       "\n",
       "\n",
       "        [[[1.]]],\n",
       "\n",
       "\n",
       "        [[[1.]]],\n",
       "\n",
       "\n",
       "        [[[1.]]],\n",
       "\n",
       "\n",
       "        [[[1.]]],\n",
       "\n",
       "\n",
       "        [[[1.]]],\n",
       "\n",
       "\n",
       "        [[[1.]]],\n",
       "\n",
       "\n",
       "        [[[1.]]],\n",
       "\n",
       "\n",
       "        [[[1.]]],\n",
       "\n",
       "\n",
       "        [[[1.]]],\n",
       "\n",
       "\n",
       "        [[[1.]]],\n",
       "\n",
       "\n",
       "        [[[1.]]],\n",
       "\n",
       "\n",
       "        [[[1.]]],\n",
       "\n",
       "\n",
       "        [[[1.]]],\n",
       "\n",
       "\n",
       "        [[[1.]]],\n",
       "\n",
       "\n",
       "        [[[1.]]],\n",
       "\n",
       "\n",
       "        [[[1.]]],\n",
       "\n",
       "\n",
       "        [[[1.]]],\n",
       "\n",
       "\n",
       "        [[[1.]]],\n",
       "\n",
       "\n",
       "        [[[1.]]],\n",
       "\n",
       "\n",
       "        [[[1.]]],\n",
       "\n",
       "\n",
       "        [[[1.]]],\n",
       "\n",
       "\n",
       "        [[[1.]]],\n",
       "\n",
       "\n",
       "        [[[1.]]],\n",
       "\n",
       "\n",
       "        [[[1.]]],\n",
       "\n",
       "\n",
       "        [[[1.]]],\n",
       "\n",
       "\n",
       "        [[[1.]]],\n",
       "\n",
       "\n",
       "        [[[1.]]],\n",
       "\n",
       "\n",
       "        [[[1.]]],\n",
       "\n",
       "\n",
       "        [[[0.]]],\n",
       "\n",
       "\n",
       "        [[[1.]]],\n",
       "\n",
       "\n",
       "        [[[1.]]],\n",
       "\n",
       "\n",
       "        [[[1.]]],\n",
       "\n",
       "\n",
       "        [[[1.]]],\n",
       "\n",
       "\n",
       "        [[[1.]]],\n",
       "\n",
       "\n",
       "        [[[1.]]],\n",
       "\n",
       "\n",
       "        [[[1.]]],\n",
       "\n",
       "\n",
       "        [[[1.]]],\n",
       "\n",
       "\n",
       "        [[[1.]]],\n",
       "\n",
       "\n",
       "        [[[1.]]],\n",
       "\n",
       "\n",
       "        [[[1.]]],\n",
       "\n",
       "\n",
       "        [[[1.]]],\n",
       "\n",
       "\n",
       "        [[[1.]]],\n",
       "\n",
       "\n",
       "        [[[1.]]],\n",
       "\n",
       "\n",
       "        [[[1.]]],\n",
       "\n",
       "\n",
       "        [[[1.]]],\n",
       "\n",
       "\n",
       "        [[[1.]]],\n",
       "\n",
       "\n",
       "        [[[1.]]],\n",
       "\n",
       "\n",
       "        [[[1.]]],\n",
       "\n",
       "\n",
       "        [[[1.]]],\n",
       "\n",
       "\n",
       "        [[[1.]]],\n",
       "\n",
       "\n",
       "        [[[1.]]],\n",
       "\n",
       "\n",
       "        [[[1.]]],\n",
       "\n",
       "\n",
       "        [[[1.]]],\n",
       "\n",
       "\n",
       "        [[[1.]]],\n",
       "\n",
       "\n",
       "        [[[1.]]],\n",
       "\n",
       "\n",
       "        [[[1.]]],\n",
       "\n",
       "\n",
       "        [[[1.]]],\n",
       "\n",
       "\n",
       "        [[[1.]]],\n",
       "\n",
       "\n",
       "        [[[1.]]],\n",
       "\n",
       "\n",
       "        [[[1.]]],\n",
       "\n",
       "\n",
       "        [[[1.]]],\n",
       "\n",
       "\n",
       "        [[[1.]]],\n",
       "\n",
       "\n",
       "        [[[1.]]],\n",
       "\n",
       "\n",
       "        [[[0.]]],\n",
       "\n",
       "\n",
       "        [[[1.]]],\n",
       "\n",
       "\n",
       "        [[[1.]]],\n",
       "\n",
       "\n",
       "        [[[1.]]],\n",
       "\n",
       "\n",
       "        [[[1.]]],\n",
       "\n",
       "\n",
       "        [[[1.]]],\n",
       "\n",
       "\n",
       "        [[[1.]]],\n",
       "\n",
       "\n",
       "        [[[1.]]],\n",
       "\n",
       "\n",
       "        [[[1.]]],\n",
       "\n",
       "\n",
       "        [[[1.]]],\n",
       "\n",
       "\n",
       "        [[[1.]]],\n",
       "\n",
       "\n",
       "        [[[1.]]],\n",
       "\n",
       "\n",
       "        [[[1.]]],\n",
       "\n",
       "\n",
       "        [[[1.]]],\n",
       "\n",
       "\n",
       "        [[[1.]]],\n",
       "\n",
       "\n",
       "        [[[1.]]],\n",
       "\n",
       "\n",
       "        [[[1.]]],\n",
       "\n",
       "\n",
       "        [[[1.]]],\n",
       "\n",
       "\n",
       "        [[[1.]]],\n",
       "\n",
       "\n",
       "        [[[1.]]],\n",
       "\n",
       "\n",
       "        [[[1.]]],\n",
       "\n",
       "\n",
       "        [[[1.]]],\n",
       "\n",
       "\n",
       "        [[[1.]]],\n",
       "\n",
       "\n",
       "        [[[1.]]],\n",
       "\n",
       "\n",
       "        [[[1.]]],\n",
       "\n",
       "\n",
       "        [[[1.]]],\n",
       "\n",
       "\n",
       "        [[[1.]]],\n",
       "\n",
       "\n",
       "        [[[1.]]],\n",
       "\n",
       "\n",
       "        [[[1.]]],\n",
       "\n",
       "\n",
       "        [[[1.]]],\n",
       "\n",
       "\n",
       "        [[[1.]]],\n",
       "\n",
       "\n",
       "        [[[1.]]],\n",
       "\n",
       "\n",
       "        [[[1.]]],\n",
       "\n",
       "\n",
       "        [[[1.]]],\n",
       "\n",
       "\n",
       "        [[[1.]]],\n",
       "\n",
       "\n",
       "        [[[1.]]],\n",
       "\n",
       "\n",
       "        [[[0.]]],\n",
       "\n",
       "\n",
       "        [[[1.]]],\n",
       "\n",
       "\n",
       "        [[[1.]]]], device='cuda:0')"
      ]
     },
     "execution_count": 91,
     "metadata": {},
     "output_type": "execute_result"
    }
   ],
   "source": [
    "1-follow_loss"
   ]
  },
  {
   "cell_type": "code",
   "execution_count": 89,
   "id": "3a3a2f63",
   "metadata": {},
   "outputs": [
    {
     "data": {
      "text/plain": [
       "tensor([[[[-0.0000, -0.0000,  0.0000,  ..., -0.0000, -0.0000, -0.0000],\n",
       "          [ 0.0000,  0.0000,  0.0000,  ...,  0.0000,  0.0000, -0.0000],\n",
       "          [-0.0000, -0.0000, -0.0000,  ...,  0.0000,  0.0000,  0.0000],\n",
       "          ...,\n",
       "          [-0.0000,  0.0000,  0.0000,  ...,  0.0000, -0.0000, -0.0000],\n",
       "          [ 0.0000, -0.0000,  0.0000,  ..., -0.0000,  0.0000, -0.0000],\n",
       "          [-0.0000, -0.0000,  0.0000,  ..., -0.0000,  0.0000, -0.0000]],\n",
       "\n",
       "         [[-0.0000,  0.0000, -0.0000,  ...,  0.0000, -0.0000,  0.0000],\n",
       "          [ 0.0000, -0.0000, -0.0000,  ..., -0.0000,  0.0000,  0.0000],\n",
       "          [ 0.0000,  0.0000,  0.0000,  ..., -0.0000, -0.0000,  0.0000],\n",
       "          ...,\n",
       "          [ 0.0000,  0.0000, -0.0000,  ..., -0.0000,  0.0000, -0.0000],\n",
       "          [-0.0000, -0.0000, -0.0000,  ...,  0.0000,  0.0000,  0.0000],\n",
       "          [ 0.0000, -0.0000,  0.0000,  ...,  0.0000, -0.0000, -0.0000]],\n",
       "\n",
       "         [[-0.0000, -0.0000,  0.0000,  ..., -0.0000,  0.0000, -0.0000],\n",
       "          [-0.0000,  0.0000, -0.0000,  ...,  0.0000, -0.0000, -0.0000],\n",
       "          [ 0.0000,  0.0000,  0.0000,  ...,  0.0000, -0.0000, -0.0000],\n",
       "          ...,\n",
       "          [-0.0000,  0.0000,  0.0000,  ...,  0.0000, -0.0000, -0.0000],\n",
       "          [ 0.0000,  0.0000, -0.0000,  ..., -0.0000,  0.0000,  0.0000],\n",
       "          [ 0.0000,  0.0000,  0.0000,  ...,  0.0000, -0.0000, -0.0000]]],\n",
       "\n",
       "\n",
       "        [[[-0.0000, -0.0000, -0.0000,  ..., -0.0000,  0.0000,  0.0000],\n",
       "          [-0.0000, -0.0000,  0.0000,  ..., -0.0000,  0.0000, -0.0000],\n",
       "          [-0.0000,  0.0000, -0.0000,  ...,  0.0000, -0.0000,  0.0000],\n",
       "          ...,\n",
       "          [-0.0000,  0.0000,  0.0000,  ..., -0.0000, -0.0000,  0.0000],\n",
       "          [-0.0000, -0.0000,  0.0000,  ..., -0.0000, -0.0000, -0.0000],\n",
       "          [ 0.0000,  0.0000,  0.0000,  ...,  0.0000,  0.0000, -0.0000]],\n",
       "\n",
       "         [[-0.0000, -0.0000, -0.0000,  ..., -0.0000, -0.0000,  0.0000],\n",
       "          [ 0.0000,  0.0000,  0.0000,  ..., -0.0000, -0.0000, -0.0000],\n",
       "          [-0.0000, -0.0000,  0.0000,  ..., -0.0000,  0.0000,  0.0000],\n",
       "          ...,\n",
       "          [ 0.0000,  0.0000,  0.0000,  ...,  0.0000, -0.0000,  0.0000],\n",
       "          [ 0.0000,  0.0000, -0.0000,  ...,  0.0000,  0.0000,  0.0000],\n",
       "          [ 0.0000, -0.0000, -0.0000,  ...,  0.0000, -0.0000, -0.0000]],\n",
       "\n",
       "         [[ 0.0000,  0.0000, -0.0000,  ...,  0.0000,  0.0000, -0.0000],\n",
       "          [ 0.0000,  0.0000,  0.0000,  ...,  0.0000, -0.0000, -0.0000],\n",
       "          [ 0.0000, -0.0000,  0.0000,  ..., -0.0000,  0.0000, -0.0000],\n",
       "          ...,\n",
       "          [ 0.0000, -0.0000,  0.0000,  ..., -0.0000,  0.0000, -0.0000],\n",
       "          [ 0.0000,  0.0000, -0.0000,  ..., -0.0000,  0.0000,  0.0000],\n",
       "          [-0.0000, -0.0000,  0.0000,  ..., -0.0000,  0.0000,  0.0000]]],\n",
       "\n",
       "\n",
       "        [[[ 0.0000,  0.0000,  0.0000,  ...,  0.0000,  0.0000, -0.0000],\n",
       "          [-0.0000, -0.0000,  0.0000,  ..., -0.0000, -0.0000, -0.0000],\n",
       "          [ 0.0000,  0.0000, -0.0000,  ..., -0.0000,  0.0000, -0.0000],\n",
       "          ...,\n",
       "          [ 0.0000, -0.0000, -0.0000,  ..., -0.0000,  0.0000,  0.0000],\n",
       "          [-0.0000, -0.0000, -0.0000,  ...,  0.0000, -0.0000,  0.0000],\n",
       "          [ 0.0000,  0.0000,  0.0000,  ...,  0.0000, -0.0000,  0.0000]],\n",
       "\n",
       "         [[-0.0000, -0.0000,  0.0000,  ...,  0.0000, -0.0000,  0.0000],\n",
       "          [-0.0000,  0.0000,  0.0000,  ...,  0.0000, -0.0000,  0.0000],\n",
       "          [ 0.0000, -0.0000,  0.0000,  ...,  0.0000,  0.0000,  0.0000],\n",
       "          ...,\n",
       "          [ 0.0000, -0.0000, -0.0000,  ..., -0.0000,  0.0000,  0.0000],\n",
       "          [ 0.0000,  0.0000,  0.0000,  ..., -0.0000,  0.0000, -0.0000],\n",
       "          [-0.0000, -0.0000,  0.0000,  ..., -0.0000,  0.0000, -0.0000]],\n",
       "\n",
       "         [[-0.0000,  0.0000,  0.0000,  ..., -0.0000,  0.0000, -0.0000],\n",
       "          [-0.0000, -0.0000, -0.0000,  ..., -0.0000,  0.0000,  0.0000],\n",
       "          [-0.0000,  0.0000, -0.0000,  ..., -0.0000, -0.0000,  0.0000],\n",
       "          ...,\n",
       "          [-0.0000, -0.0000,  0.0000,  ...,  0.0000,  0.0000, -0.0000],\n",
       "          [ 0.0000, -0.0000, -0.0000,  ...,  0.0000, -0.0000,  0.0000],\n",
       "          [ 0.0000, -0.0000,  0.0000,  ..., -0.0000, -0.0000, -0.0000]]],\n",
       "\n",
       "\n",
       "        ...,\n",
       "\n",
       "\n",
       "        [[[ 0.0015,  0.0089,  0.0138,  ..., -0.0092, -0.0033,  0.0001],\n",
       "          [ 0.0055,  0.0147,  0.0054,  ...,  0.0309, -0.0049,  0.0007],\n",
       "          [-0.0031,  0.0048,  0.0090,  ..., -0.0115,  0.0174,  0.0028],\n",
       "          ...,\n",
       "          [-0.0046, -0.0165,  0.0099,  ..., -0.0035,  0.0066, -0.0091],\n",
       "          [ 0.0130,  0.0019,  0.0011,  ...,  0.0021, -0.0027,  0.0153],\n",
       "          [-0.0030,  0.0134,  0.0046,  ...,  0.0112, -0.0031, -0.0036]],\n",
       "\n",
       "         [[-0.0027, -0.0078,  0.0281,  ...,  0.0034,  0.0109, -0.0004],\n",
       "          [-0.0132,  0.0153,  0.0221,  ..., -0.0096,  0.0153, -0.0112],\n",
       "          [-0.0103, -0.0060, -0.0179,  ...,  0.0136, -0.0201,  0.0070],\n",
       "          ...,\n",
       "          [ 0.0044, -0.0068, -0.0097,  ...,  0.0025, -0.0017, -0.0271],\n",
       "          [ 0.0066,  0.0037,  0.0090,  ..., -0.0005,  0.0028,  0.0077],\n",
       "          [-0.0011, -0.0040,  0.0035,  ...,  0.0073,  0.0064, -0.0075]],\n",
       "\n",
       "         [[-0.0111, -0.0078,  0.0009,  ...,  0.0016, -0.0057,  0.0049],\n",
       "          [ 0.0114, -0.0120, -0.0234,  ..., -0.0051,  0.0064,  0.0031],\n",
       "          [-0.0063, -0.0019,  0.0404,  ..., -0.0404, -0.0257,  0.0195],\n",
       "          ...,\n",
       "          [ 0.0017, -0.0035, -0.0056,  ...,  0.0064, -0.0106,  0.0002],\n",
       "          [-0.0113, -0.0160, -0.0054,  ...,  0.0031, -0.0008, -0.0047],\n",
       "          [-0.0012, -0.0061,  0.0056,  ...,  0.0028, -0.0098,  0.0063]]],\n",
       "\n",
       "\n",
       "        [[[-0.0000,  0.0000, -0.0000,  ..., -0.0000, -0.0000,  0.0000],\n",
       "          [ 0.0000,  0.0000, -0.0000,  ..., -0.0000,  0.0000, -0.0000],\n",
       "          [ 0.0000,  0.0000,  0.0000,  ...,  0.0000, -0.0000,  0.0000],\n",
       "          ...,\n",
       "          [ 0.0000,  0.0000,  0.0000,  ...,  0.0000, -0.0000, -0.0000],\n",
       "          [ 0.0000,  0.0000,  0.0000,  ...,  0.0000,  0.0000,  0.0000],\n",
       "          [ 0.0000, -0.0000,  0.0000,  ...,  0.0000, -0.0000,  0.0000]],\n",
       "\n",
       "         [[ 0.0000,  0.0000, -0.0000,  ...,  0.0000, -0.0000, -0.0000],\n",
       "          [-0.0000, -0.0000,  0.0000,  ..., -0.0000,  0.0000,  0.0000],\n",
       "          [-0.0000, -0.0000, -0.0000,  ...,  0.0000, -0.0000,  0.0000],\n",
       "          ...,\n",
       "          [-0.0000, -0.0000,  0.0000,  ...,  0.0000,  0.0000,  0.0000],\n",
       "          [ 0.0000, -0.0000,  0.0000,  ..., -0.0000, -0.0000, -0.0000],\n",
       "          [-0.0000, -0.0000,  0.0000,  ..., -0.0000,  0.0000,  0.0000]],\n",
       "\n",
       "         [[-0.0000,  0.0000, -0.0000,  ..., -0.0000,  0.0000, -0.0000],\n",
       "          [-0.0000,  0.0000,  0.0000,  ...,  0.0000, -0.0000,  0.0000],\n",
       "          [ 0.0000, -0.0000, -0.0000,  ..., -0.0000, -0.0000, -0.0000],\n",
       "          ...,\n",
       "          [-0.0000,  0.0000,  0.0000,  ...,  0.0000, -0.0000, -0.0000],\n",
       "          [-0.0000, -0.0000, -0.0000,  ..., -0.0000, -0.0000, -0.0000],\n",
       "          [-0.0000,  0.0000,  0.0000,  ...,  0.0000, -0.0000,  0.0000]]],\n",
       "\n",
       "\n",
       "        [[[ 0.0000,  0.0000,  0.0000,  ...,  0.0000,  0.0000,  0.0000],\n",
       "          [ 0.0000,  0.0000, -0.0000,  ...,  0.0000, -0.0000, -0.0000],\n",
       "          [ 0.0000,  0.0000, -0.0000,  ..., -0.0000,  0.0000, -0.0000],\n",
       "          ...,\n",
       "          [ 0.0000, -0.0000, -0.0000,  ..., -0.0000, -0.0000,  0.0000],\n",
       "          [ 0.0000, -0.0000, -0.0000,  ...,  0.0000, -0.0000, -0.0000],\n",
       "          [ 0.0000,  0.0000,  0.0000,  ...,  0.0000, -0.0000, -0.0000]],\n",
       "\n",
       "         [[-0.0000,  0.0000,  0.0000,  ...,  0.0000,  0.0000, -0.0000],\n",
       "          [-0.0000,  0.0000,  0.0000,  ..., -0.0000, -0.0000,  0.0000],\n",
       "          [ 0.0000,  0.0000, -0.0000,  ...,  0.0000, -0.0000, -0.0000],\n",
       "          ...,\n",
       "          [ 0.0000, -0.0000,  0.0000,  ..., -0.0000,  0.0000, -0.0000],\n",
       "          [ 0.0000,  0.0000, -0.0000,  ...,  0.0000,  0.0000, -0.0000],\n",
       "          [ 0.0000,  0.0000, -0.0000,  ...,  0.0000,  0.0000, -0.0000]],\n",
       "\n",
       "         [[-0.0000,  0.0000,  0.0000,  ...,  0.0000,  0.0000,  0.0000],\n",
       "          [-0.0000, -0.0000,  0.0000,  ...,  0.0000,  0.0000, -0.0000],\n",
       "          [-0.0000, -0.0000, -0.0000,  ..., -0.0000,  0.0000, -0.0000],\n",
       "          ...,\n",
       "          [-0.0000, -0.0000, -0.0000,  ..., -0.0000, -0.0000, -0.0000],\n",
       "          [-0.0000,  0.0000,  0.0000,  ..., -0.0000,  0.0000,  0.0000],\n",
       "          [-0.0000,  0.0000,  0.0000,  ...,  0.0000, -0.0000,  0.0000]]]],\n",
       "       device='cuda:0')"
      ]
     },
     "execution_count": 89,
     "metadata": {},
     "output_type": "execute_result"
    }
   ],
   "source": [
    "sdir=follow_loss*image_grads+(1-follow_loss)*-deltas.detach()"
   ]
  },
  {
   "cell_type": "code",
   "execution_count": 119,
   "id": "bbbdf13b",
   "metadata": {},
   "outputs": [],
   "source": [
    "sdir = (\n",
    "                follow_loss * image_grads\n",
    "                + (1 - follow_loss) * -deltas.detach())"
   ]
  },
  {
   "cell_type": "code",
   "execution_count": null,
   "id": "0146d433",
   "metadata": {},
   "outputs": [],
   "source": []
  },
  {
   "cell_type": "code",
   "execution_count": null,
   "id": "a5ee4989",
   "metadata": {},
   "outputs": [],
   "source": []
  },
  {
   "cell_type": "code",
   "execution_count": null,
   "id": "5a58d38b",
   "metadata": {},
   "outputs": [],
   "source": []
  },
  {
   "cell_type": "code",
   "execution_count": 157,
   "id": "6a665b75",
   "metadata": {},
   "outputs": [
    {
     "data": {
      "text/plain": [
       "tensor(1.8031, device='cuda:0', grad_fn=<MaxBackward1>)"
      ]
     },
     "execution_count": 157,
     "metadata": {},
     "output_type": "execute_result"
    }
   ],
   "source": [
    "guesses.max()"
   ]
  },
  {
   "cell_type": "code",
   "execution_count": null,
   "id": "55456474",
   "metadata": {},
   "outputs": [],
   "source": []
  },
  {
   "cell_type": "code",
   "execution_count": 160,
   "id": "434bad63",
   "metadata": {},
   "outputs": [
    {
     "data": {
      "text/plain": [
       "tensor([2.2359, 2.3612, 2.3073, 2.0079, 2.2287, 2.1392, 2.3744, 2.6745, 2.3502,\n",
       "        2.0370, 2.0248, 2.5069, 2.5007, 3.6208, 2.2783, 2.1875, 2.0193, 2.6752,\n",
       "        3.0164, 2.2428, 2.7278, 2.4528, 3.0654, 2.6148, 2.8551, 2.7972, 2.2589,\n",
       "        2.2446, 2.0398, 4.0249, 2.5222, 2.1833, 2.4737, 2.4336, 2.5988, 2.1357,\n",
       "        2.4553, 2.6813, 2.0680, 2.5388, 1.9658, 2.0778, 2.4983, 2.2687, 2.5078,\n",
       "        3.0193, 2.4752, 2.6348, 2.4686, 2.0236, 2.6285, 2.6880, 2.1875, 2.2762,\n",
       "        2.0067, 2.6311, 2.1178, 2.4885, 2.9132, 2.2765, 1.9918, 2.6611, 2.0264,\n",
       "        3.0685, 2.6208, 2.2330, 2.6871, 1.9551, 2.2948, 3.0446, 2.6085, 2.0972,\n",
       "        2.1306, 2.6930, 2.1192, 2.4014, 2.2955, 2.3346, 2.6664, 2.1023, 2.7488,\n",
       "        2.6142, 1.9777, 2.2870, 2.2871, 2.1731, 1.9677, 2.2774, 2.0741, 2.1110,\n",
       "        3.0453, 2.0682, 2.6141, 2.1982, 2.4420, 2.4664, 2.1319, 2.5967, 2.3989,\n",
       "        3.1402, 2.2477, 2.8931, 2.5287, 2.0738, 2.2899, 2.3590, 2.4865, 2.0801,\n",
       "        2.5266, 2.0636, 1.8821, 2.5005, 2.0633, 2.3880, 2.7782, 2.4438, 2.4132,\n",
       "        3.1149, 2.0780, 3.0880, 2.4202, 2.7177, 2.8925, 2.3297, 2.5263, 1.9486,\n",
       "        2.1389, 2.1332], device='cuda:0', grad_fn=<NllLossBackward>)"
      ]
     },
     "execution_count": 160,
     "metadata": {},
     "output_type": "execute_result"
    }
   ],
   "source": [
    "torch.nn.functional.cross_entropy(guesses, target_labels, reduction='none')"
   ]
  },
  {
   "cell_type": "code",
   "execution_count": null,
   "id": "6b2e5f64",
   "metadata": {},
   "outputs": [],
   "source": [
    "# images, labels : gpu에 tensor단위로 할당된 상태\n",
    "# 아래 함수는 하나의 batch 내에서 실행\n",
    "\n",
    "def _adv_images(m, images, labels, opts):\n",
    "    if opts.steps <= 0:\n",
    "        return images\n",
    "\n",
    "    images = images.detach() # 복사. images.data()와 동일하나 오류 측면 처리에서 선호, \n",
    "    deltas = images.new_zeros(images.size()).requires_grad_() # gradient 자동 추적, 하고싶지 않을 시 detach. --> 학습용\n",
    "    \n",
    "    # affected : [batch_size, 1, 1, 1] 크기의 binary tensor\n",
    "    # affected : ( ... ) 의 역할\n",
    "    if opts.use_half_and_half: # batch가 절반의 adversarial, 절반의 original로 구성\n",
    "        # 배치 사이즈 만큼의 tensor를 random으로 생성해 약 절반을 0으로 조정\n",
    "        affected = torch.rand(images.size(0), 1, 1, 1, device=images.device)\n",
    "        affected = (affected < 0.5).float()\n",
    "    else:\n",
    "        affected = torch.ones(images.size(0), 1, 1, 1, device=images.device)\n",
    "    \n",
    "    target_labels = labels\n",
    "    \n",
    "    \n",
    "    \n",
    "    # 설명을 위해서는 True로 설정, 아마 학습에는 False\n",
    "    target_encourage = False \n",
    "    if opts.encourage_labels:\n",
    "        if isinstance(target_labels, list): # 혹시 label이 list형태일 경우\n",
    "            target_labels = torch.LongTensor(target_labels).to(images.device) # LongTensor는 정수형으로 나타난다.\n",
    "        target_encourage = True\n",
    "        \n",
    "        # l2min이랑 labels에대한 설명은 동시에 할 수 없다. (왜? ...) 학습이라? \n",
    "        assert not opts.use_l2min, 'Cannot combine l2_min with encourage_labels'\n",
    "    \n",
    "    # size는 ( step size에 곱해지는 데)에 적용. (더 민감하게 이동) =0.1 \n",
    "    size = opts.eps * opts.eps_overshoot # 0.1 (eps)* 1 ( # Multiplier for step size; if > 1, uses g_explain)\n",
    "    mom = images.new_zeros(images.size()) # momemntum, (step size가 클 때. )\n",
    "    \n",
    "    # l2min을 사용할 때 track_best = True, extra_steps =1\n",
    "    track_best = True if opts.use_l2min else False\n",
    "    extra_steps = 1 if track_best else 0\n",
    "    \n",
    "    # ARA 계산 또는 Explanation에 해당한다면 (...) Explanation 할 때.\n",
    "    if opts.ensure_proper_minimization: \n",
    "        first_ok_steps = images.new_zeros(images.size(0),\n",
    "                dtype=torch.int).fill_(999 + opts.steps)\n",
    "    \n",
    "    # l2min을 사용할 때\n",
    "    if track_best:\n",
    "        # Also track the first step at which results were OK, and the lowest-perturbation delta.\n",
    "        # 결과가 양호했던 first step과 lowest-perturbation delta를 추적합니다.\n",
    "        # (noise가 l2min 해야하나? ... )\n",
    "        best_ok_deltas = torch.zeros_like(images) # 이미지 텐서와 같은 0 tensor \n",
    "        \n",
    "        # batch size 크기의 0 tensor. (sqr : ( delta의 L2 mean 값과 비교된다.))\n",
    "        best_ok_deltas_sqr = images.new_zeros(images.size(0)).fill_(1e30)\n",
    "\n",
    "        \n",
    "    for step in range(opts.steps + extra_steps): # default (6 + 1)번\n",
    "        \n",
    "        # guesses는 softmax 이전의 값(-1.8, 1.8 등의 값도 나온다.)\n",
    "        # pytorch의 cross_entropy는 softmax를 포함한 것으로 보인다. \n",
    "        guesses = m(images + deltas) # noise image를 받아 pre-softmax.\n",
    "        loss = torch.nn.functional.cross_entropy(guesses, target_labels,\n",
    "                reduction='none') # reduction : 모든 batch loss를 mean 할거냐, sum 할거냐..\n",
    "\n",
    "        # detach() not necessary, but just in case it changes...\n",
    "        # loss 대비 noise(delta)의 gradient 구하기\n",
    "\n",
    "        image_grads = torch.autograd.grad(loss.sum(), deltas)[0].detach()\n",
    "\n",
    "        # ( ... 쓰이는 부분 있는지)\n",
    "        if isinstance(opts.use_l2min, str): # 어떻게 str가 나오지? False 아님 True인데. \n",
    "            print('adv_images, isinstance(opts.use_l2min ,str) 발동.')\n",
    "            if opts.use_l2min == 'btr':\n",
    "                sm = guesses.softmax(1)\n",
    "                follow_loss = (sm.gather(1, target_labels.unsqueeze(1))[:, 0]\n",
    "                        > 1/sm.size(1)).float()\n",
    "            else:\n",
    "                raise NotImplementedError(opts.use_l2min)\n",
    "        elif opts.use_l2min: # l2min=True 일 때, \n",
    "            # l2_min; aim to be correct(네트워크가 올바르게 분류해야 흐른다)\n",
    "            # 올바르지 못하게 분류한다면, 정 반대로 대체할 것.\n",
    "            # batch size의 binary tensor로 나타냄. (정답 example)\n",
    "            follow_loss = (guesses.argmax(1) == target_labels).float() # argmax(1) : row-dirrection\n",
    "\n",
    "        # follow_loss는 후에 ( ... ) 하는 데 쓰인다. \n",
    "\n",
    "        else: # l2min=False일 때.\n",
    "            # Standard l2; aim to be within eps. highest loss를 찾는다. \n",
    "            # channel, width, height의 평균을 구해 batch size의 평균을 얻는다.\n",
    "            # 특히, (noise)^2 - (epsilon)^2 < 0 인 친구들을 찾는다. \n",
    "            # batch size의 binary tensor로 나타남. (epsilon보다 작은 친구들.)\n",
    "            follow_loss = (deltas.detach().pow(2).mean((1, 2, 3))\n",
    "                    < opts.eps ** 2).float()\n",
    "\n",
    "        if opts.ensure_proper_minimization: # 설명 또는 ARA 구할 때만. \n",
    "            # Note that follow_loss == 0 checks for the boundary condition\n",
    "            # being satisfied.\n",
    "            is_ok = (follow_loss == 0)\n",
    "            set_step = is_ok * (first_ok_steps > step)\n",
    "            first_ok_steps[set_step] = step\n",
    "\n",
    "        if track_best: # l2min 사용할 때.\n",
    "            # Track the best perturbation which satisfies the criteria.\n",
    "            # ddist : noise의 l2 mean. \n",
    "            ddist = deltas.detach().pow(2).mean((1, 2, 3))\n",
    "\n",
    "            # uncorrect sample  +  noise(delta)가 의 l2 mean이 best 일 때. 즉, 작을 때.\n",
    "            set_best = (follow_loss == 0) * (ddist < best_ok_deltas_sqr)\n",
    "            \n",
    "            # l2 mean이 작으면서 예측 또한 못하는 noise가 좋은 noise이다.\n",
    "            best_ok_deltas[set_best] = deltas.detach()[set_best]\n",
    "            best_ok_deltas_sqr[set_best] = ddist[set_best]\n",
    "\n",
    "            # All done; are we in extra step?  If so, don't do another step\n",
    "            if step == opts.steps:\n",
    "                deltas = best_ok_deltas\n",
    "                break\n",
    "\n",
    "        if target_encourage:\n",
    "            image_grads *= -1\n",
    "\n",
    "        # Let the GC clean up, if needed\n",
    "        guesses = None\n",
    "        loss = None\n",
    "\n",
    "        # Ramp step size - 점점 step size를 작게 잡는다., 논문 Method 참고\n",
    "        ss = size * (opts.steps - step) / (opts.steps * (opts.steps + 1) / 2)\n",
    "\n",
    "        # Find direction and follow it an amount that increases RMSE up to ss\n",
    "        follow_loss = follow_loss.view(-1, 1, 1, 1) # [128] -> [128, 1, 1, 1]\n",
    "\n",
    "\n",
    "        ### sdir : ( ... )\n",
    "        sdir = (\n",
    "                follow_loss * image_grads # 제대로 예측한 친구는 delta의 gradient. \n",
    "                + (1 - follow_loss) * -deltas.detach()) # follow_loss : l2min에서 올바르게 분류한 sample에 해당한다. \n",
    "        # 즉, (1 - follow_loss) 는 제대로 예측하지 못한 sample이다. 제대로 예측한 sample은 0으로 영향 x \n",
    "\n",
    "        # normalization이라 보면 될 듯. 3차원 이미지의 평균값으로 나눠버림(L2 mean), 단 sample은 sample끼리, channel, w, h만 나눠짐.\n",
    "        sdir /= 1e-8 + sdir.pow(2).mean((1, 2, 3)).sqrt().view(-1, 1, 1, 1)\n",
    "        # Momentum helps when steps are high (450), hurts when steps are\n",
    "        # low (45).  Difference is not necessarily significant, however.\n",
    "\n",
    "        # 기본값은 0이다. \n",
    "        # sdir : [batch, 3, 32, 32] 차원의 (예측 잘한 sample의 delta's gradient - 예측 못한 sample의 delta 곱)\n",
    "        if opts.momentum > 0:\n",
    "            mom = mom.mul_(opts.momentum).add_(1 - opts.momentum, sdir)\n",
    "            sdir = mom.clone()\n",
    "\n",
    "        # affected : half and half training 시 랜덤하게 약 절반만 영향을 끼침.\n",
    "        sdir *= affected\n",
    "        # step size만큼 곱해서 sdir을 delta, 즉 noise에 더한다. \n",
    "        deltas.data.add_(ss, sdir)        \n",
    "\n",
    "    \n",
    "    # 설명할 때. \n",
    "    if opts.ensure_proper_minimization:\n",
    "        if (first_ok_steps > opts.steps // 2).sum().item() != 0:\n",
    "            raise ValueError(\"In order to ensure that a good bound is \"\n",
    "                    \"located, calculating ARA or generating an explanation \"\n",
    "                    \"checks that a suitable adversarial example is found \"\n",
    "                    \"within half the specified number of optimization steps.  \"\n",
    "                    \"This ensures that the reported minimal attack or \"\n",
    "                    \"explanation is sufficiently representative.  \"\n",
    "                    \"However, this was not the case.  Increase eps or steps.\")\n",
    "    \n",
    "    # step 만큼 delta(noise)의 gradient를 구하는 행위를 반복한다.\n",
    "    # 즉, 실질적으로 delta + gradient*correct - incorrect * delta. \n",
    "    return images + deltas.detach()\n",
    "\n"
   ]
  },
  {
   "cell_type": "code",
   "execution_count": 167,
   "id": "d13f7e74",
   "metadata": {},
   "outputs": [
    {
     "data": {
      "text/plain": [
       "torch.Size([128, 3, 32, 32])"
      ]
     },
     "execution_count": 167,
     "metadata": {},
     "output_type": "execute_result"
    }
   ],
   "source": [
    "image_grads.size()"
   ]
  },
  {
   "cell_type": "code",
   "execution_count": 169,
   "id": "4f973e69",
   "metadata": {},
   "outputs": [
    {
     "data": {
      "text/plain": [
       "tensor([[[[ 0.0000e+00,  0.0000e+00,  0.0000e+00,  ...,  0.0000e+00,\n",
       "            0.0000e+00,  0.0000e+00],\n",
       "          [ 0.0000e+00,  0.0000e+00,  0.0000e+00,  ...,  0.0000e+00,\n",
       "            0.0000e+00,  0.0000e+00],\n",
       "          [ 0.0000e+00,  0.0000e+00,  0.0000e+00,  ...,  0.0000e+00,\n",
       "            0.0000e+00,  0.0000e+00],\n",
       "          ...,\n",
       "          [ 0.0000e+00,  0.0000e+00,  0.0000e+00,  ...,  0.0000e+00,\n",
       "            0.0000e+00,  0.0000e+00],\n",
       "          [ 0.0000e+00,  0.0000e+00,  0.0000e+00,  ...,  0.0000e+00,\n",
       "            0.0000e+00,  0.0000e+00],\n",
       "          [ 0.0000e+00,  0.0000e+00,  0.0000e+00,  ...,  0.0000e+00,\n",
       "            0.0000e+00,  0.0000e+00]],\n",
       "\n",
       "         [[ 0.0000e+00,  0.0000e+00,  0.0000e+00,  ...,  0.0000e+00,\n",
       "            0.0000e+00,  0.0000e+00],\n",
       "          [ 0.0000e+00,  0.0000e+00,  0.0000e+00,  ...,  0.0000e+00,\n",
       "            0.0000e+00,  0.0000e+00],\n",
       "          [ 0.0000e+00,  0.0000e+00,  0.0000e+00,  ...,  0.0000e+00,\n",
       "            0.0000e+00,  0.0000e+00],\n",
       "          ...,\n",
       "          [ 0.0000e+00,  0.0000e+00,  0.0000e+00,  ...,  0.0000e+00,\n",
       "            0.0000e+00,  0.0000e+00],\n",
       "          [ 0.0000e+00,  0.0000e+00,  0.0000e+00,  ...,  0.0000e+00,\n",
       "            0.0000e+00,  0.0000e+00],\n",
       "          [ 0.0000e+00,  0.0000e+00,  0.0000e+00,  ...,  0.0000e+00,\n",
       "            0.0000e+00,  0.0000e+00]],\n",
       "\n",
       "         [[ 0.0000e+00,  0.0000e+00,  0.0000e+00,  ...,  0.0000e+00,\n",
       "            0.0000e+00,  0.0000e+00],\n",
       "          [ 0.0000e+00,  0.0000e+00,  0.0000e+00,  ...,  0.0000e+00,\n",
       "            0.0000e+00,  0.0000e+00],\n",
       "          [ 0.0000e+00,  0.0000e+00,  0.0000e+00,  ...,  0.0000e+00,\n",
       "            0.0000e+00,  0.0000e+00],\n",
       "          ...,\n",
       "          [ 0.0000e+00,  0.0000e+00,  0.0000e+00,  ...,  0.0000e+00,\n",
       "            0.0000e+00,  0.0000e+00],\n",
       "          [ 0.0000e+00,  0.0000e+00,  0.0000e+00,  ...,  0.0000e+00,\n",
       "            0.0000e+00,  0.0000e+00],\n",
       "          [ 0.0000e+00,  0.0000e+00,  0.0000e+00,  ...,  0.0000e+00,\n",
       "            0.0000e+00,  0.0000e+00]]],\n",
       "\n",
       "\n",
       "        [[[ 0.0000e+00,  0.0000e+00,  0.0000e+00,  ...,  0.0000e+00,\n",
       "            0.0000e+00,  0.0000e+00],\n",
       "          [ 0.0000e+00,  0.0000e+00,  0.0000e+00,  ...,  0.0000e+00,\n",
       "            0.0000e+00,  0.0000e+00],\n",
       "          [ 0.0000e+00,  0.0000e+00,  0.0000e+00,  ...,  0.0000e+00,\n",
       "            0.0000e+00,  0.0000e+00],\n",
       "          ...,\n",
       "          [ 0.0000e+00,  0.0000e+00,  0.0000e+00,  ...,  0.0000e+00,\n",
       "            0.0000e+00,  0.0000e+00],\n",
       "          [ 0.0000e+00,  0.0000e+00,  0.0000e+00,  ...,  0.0000e+00,\n",
       "            0.0000e+00,  0.0000e+00],\n",
       "          [ 0.0000e+00,  0.0000e+00,  0.0000e+00,  ...,  0.0000e+00,\n",
       "            0.0000e+00,  0.0000e+00]],\n",
       "\n",
       "         [[ 0.0000e+00,  0.0000e+00,  0.0000e+00,  ...,  0.0000e+00,\n",
       "            0.0000e+00,  0.0000e+00],\n",
       "          [ 0.0000e+00,  0.0000e+00,  0.0000e+00,  ...,  0.0000e+00,\n",
       "            0.0000e+00,  0.0000e+00],\n",
       "          [ 0.0000e+00,  0.0000e+00,  0.0000e+00,  ...,  0.0000e+00,\n",
       "            0.0000e+00,  0.0000e+00],\n",
       "          ...,\n",
       "          [ 0.0000e+00,  0.0000e+00,  0.0000e+00,  ...,  0.0000e+00,\n",
       "            0.0000e+00,  0.0000e+00],\n",
       "          [ 0.0000e+00,  0.0000e+00,  0.0000e+00,  ...,  0.0000e+00,\n",
       "            0.0000e+00,  0.0000e+00],\n",
       "          [ 0.0000e+00,  0.0000e+00,  0.0000e+00,  ...,  0.0000e+00,\n",
       "            0.0000e+00,  0.0000e+00]],\n",
       "\n",
       "         [[ 0.0000e+00,  0.0000e+00,  0.0000e+00,  ...,  0.0000e+00,\n",
       "            0.0000e+00,  0.0000e+00],\n",
       "          [ 0.0000e+00,  0.0000e+00,  0.0000e+00,  ...,  0.0000e+00,\n",
       "            0.0000e+00,  0.0000e+00],\n",
       "          [ 0.0000e+00,  0.0000e+00,  0.0000e+00,  ...,  0.0000e+00,\n",
       "            0.0000e+00,  0.0000e+00],\n",
       "          ...,\n",
       "          [ 0.0000e+00,  0.0000e+00,  0.0000e+00,  ...,  0.0000e+00,\n",
       "            0.0000e+00,  0.0000e+00],\n",
       "          [ 0.0000e+00,  0.0000e+00,  0.0000e+00,  ...,  0.0000e+00,\n",
       "            0.0000e+00,  0.0000e+00],\n",
       "          [ 0.0000e+00,  0.0000e+00,  0.0000e+00,  ...,  0.0000e+00,\n",
       "            0.0000e+00,  0.0000e+00]]],\n",
       "\n",
       "\n",
       "        [[[ 0.0000e+00,  0.0000e+00,  0.0000e+00,  ...,  0.0000e+00,\n",
       "            0.0000e+00,  0.0000e+00],\n",
       "          [ 0.0000e+00,  0.0000e+00,  0.0000e+00,  ...,  0.0000e+00,\n",
       "            0.0000e+00,  0.0000e+00],\n",
       "          [ 0.0000e+00,  0.0000e+00,  0.0000e+00,  ...,  0.0000e+00,\n",
       "            0.0000e+00,  0.0000e+00],\n",
       "          ...,\n",
       "          [ 0.0000e+00,  0.0000e+00,  0.0000e+00,  ...,  0.0000e+00,\n",
       "            0.0000e+00,  0.0000e+00],\n",
       "          [ 0.0000e+00,  0.0000e+00,  0.0000e+00,  ...,  0.0000e+00,\n",
       "            0.0000e+00,  0.0000e+00],\n",
       "          [ 0.0000e+00,  0.0000e+00,  0.0000e+00,  ...,  0.0000e+00,\n",
       "            0.0000e+00,  0.0000e+00]],\n",
       "\n",
       "         [[ 0.0000e+00,  0.0000e+00,  0.0000e+00,  ...,  0.0000e+00,\n",
       "            0.0000e+00,  0.0000e+00],\n",
       "          [ 0.0000e+00,  0.0000e+00,  0.0000e+00,  ...,  0.0000e+00,\n",
       "            0.0000e+00,  0.0000e+00],\n",
       "          [ 0.0000e+00,  0.0000e+00,  0.0000e+00,  ...,  0.0000e+00,\n",
       "            0.0000e+00,  0.0000e+00],\n",
       "          ...,\n",
       "          [ 0.0000e+00,  0.0000e+00,  0.0000e+00,  ...,  0.0000e+00,\n",
       "            0.0000e+00,  0.0000e+00],\n",
       "          [ 0.0000e+00,  0.0000e+00,  0.0000e+00,  ...,  0.0000e+00,\n",
       "            0.0000e+00,  0.0000e+00],\n",
       "          [ 0.0000e+00,  0.0000e+00,  0.0000e+00,  ...,  0.0000e+00,\n",
       "            0.0000e+00,  0.0000e+00]],\n",
       "\n",
       "         [[ 0.0000e+00,  0.0000e+00,  0.0000e+00,  ...,  0.0000e+00,\n",
       "            0.0000e+00,  0.0000e+00],\n",
       "          [ 0.0000e+00,  0.0000e+00,  0.0000e+00,  ...,  0.0000e+00,\n",
       "            0.0000e+00,  0.0000e+00],\n",
       "          [ 0.0000e+00,  0.0000e+00,  0.0000e+00,  ...,  0.0000e+00,\n",
       "            0.0000e+00,  0.0000e+00],\n",
       "          ...,\n",
       "          [ 0.0000e+00,  0.0000e+00,  0.0000e+00,  ...,  0.0000e+00,\n",
       "            0.0000e+00,  0.0000e+00],\n",
       "          [ 0.0000e+00,  0.0000e+00,  0.0000e+00,  ...,  0.0000e+00,\n",
       "            0.0000e+00,  0.0000e+00],\n",
       "          [ 0.0000e+00,  0.0000e+00,  0.0000e+00,  ...,  0.0000e+00,\n",
       "            0.0000e+00,  0.0000e+00]]],\n",
       "\n",
       "\n",
       "        ...,\n",
       "\n",
       "\n",
       "        [[[ 2.6606e-04,  1.6321e-03,  2.5194e-03,  ..., -1.6892e-03,\n",
       "           -5.9983e-04,  2.2798e-05],\n",
       "          [ 9.9762e-04,  2.6798e-03,  9.8839e-04,  ...,  5.6446e-03,\n",
       "           -8.9418e-04,  1.2482e-04],\n",
       "          [-5.6324e-04,  8.8001e-04,  1.6518e-03,  ..., -2.0973e-03,\n",
       "            3.1737e-03,  5.0397e-04],\n",
       "          ...,\n",
       "          [-8.3305e-04, -3.0191e-03,  1.8074e-03,  ..., -6.4349e-04,\n",
       "            1.2002e-03, -1.6575e-03],\n",
       "          [ 2.3808e-03,  3.4669e-04,  1.9876e-04,  ...,  3.8215e-04,\n",
       "           -4.8633e-04,  2.7898e-03],\n",
       "          [-5.5233e-04,  2.4424e-03,  8.4650e-04,  ...,  2.0461e-03,\n",
       "           -5.7413e-04, -6.5600e-04]],\n",
       "\n",
       "         [[-4.8642e-04, -1.4253e-03,  5.1401e-03,  ...,  6.2269e-04,\n",
       "            1.9968e-03, -8.0826e-05],\n",
       "          [-2.4153e-03,  2.7953e-03,  4.0315e-03,  ..., -1.7483e-03,\n",
       "            2.7936e-03, -2.0449e-03],\n",
       "          [-1.8767e-03, -1.0959e-03, -3.2747e-03,  ...,  2.4829e-03,\n",
       "           -3.6717e-03,  1.2858e-03],\n",
       "          ...,\n",
       "          [ 8.0770e-04, -1.2456e-03, -1.7725e-03,  ...,  4.5991e-04,\n",
       "           -3.0427e-04, -4.9522e-03],\n",
       "          [ 1.2039e-03,  6.7131e-04,  1.6386e-03,  ..., -9.2896e-05,\n",
       "            5.1011e-04,  1.4088e-03],\n",
       "          [-2.0070e-04, -7.2597e-04,  6.3852e-04,  ...,  1.3300e-03,\n",
       "            1.1708e-03, -1.3686e-03]],\n",
       "\n",
       "         [[-2.0295e-03, -1.4297e-03,  1.6446e-04,  ...,  2.8613e-04,\n",
       "           -1.0391e-03,  8.9732e-04],\n",
       "          [ 2.0888e-03, -2.1905e-03, -4.2798e-03,  ..., -9.2584e-04,\n",
       "            1.1731e-03,  5.6154e-04],\n",
       "          [-1.1512e-03, -3.4128e-04,  7.3804e-03,  ..., -7.3775e-03,\n",
       "           -4.6901e-03,  3.5644e-03],\n",
       "          ...,\n",
       "          [ 3.0833e-04, -6.4036e-04, -1.0188e-03,  ...,  1.1682e-03,\n",
       "           -1.9381e-03,  2.8789e-05],\n",
       "          [-2.0618e-03, -2.9153e-03, -9.8902e-04,  ...,  5.6687e-04,\n",
       "           -1.4880e-04, -8.6195e-04],\n",
       "          [-2.1575e-04, -1.1064e-03,  1.0275e-03,  ...,  5.1484e-04,\n",
       "           -1.7974e-03,  1.1544e-03]]],\n",
       "\n",
       "\n",
       "        [[[ 0.0000e+00,  0.0000e+00,  0.0000e+00,  ...,  0.0000e+00,\n",
       "            0.0000e+00,  0.0000e+00],\n",
       "          [ 0.0000e+00,  0.0000e+00,  0.0000e+00,  ...,  0.0000e+00,\n",
       "            0.0000e+00,  0.0000e+00],\n",
       "          [ 0.0000e+00,  0.0000e+00,  0.0000e+00,  ...,  0.0000e+00,\n",
       "            0.0000e+00,  0.0000e+00],\n",
       "          ...,\n",
       "          [ 0.0000e+00,  0.0000e+00,  0.0000e+00,  ...,  0.0000e+00,\n",
       "            0.0000e+00,  0.0000e+00],\n",
       "          [ 0.0000e+00,  0.0000e+00,  0.0000e+00,  ...,  0.0000e+00,\n",
       "            0.0000e+00,  0.0000e+00],\n",
       "          [ 0.0000e+00,  0.0000e+00,  0.0000e+00,  ...,  0.0000e+00,\n",
       "            0.0000e+00,  0.0000e+00]],\n",
       "\n",
       "         [[ 0.0000e+00,  0.0000e+00,  0.0000e+00,  ...,  0.0000e+00,\n",
       "            0.0000e+00,  0.0000e+00],\n",
       "          [ 0.0000e+00,  0.0000e+00,  0.0000e+00,  ...,  0.0000e+00,\n",
       "            0.0000e+00,  0.0000e+00],\n",
       "          [ 0.0000e+00,  0.0000e+00,  0.0000e+00,  ...,  0.0000e+00,\n",
       "            0.0000e+00,  0.0000e+00],\n",
       "          ...,\n",
       "          [ 0.0000e+00,  0.0000e+00,  0.0000e+00,  ...,  0.0000e+00,\n",
       "            0.0000e+00,  0.0000e+00],\n",
       "          [ 0.0000e+00,  0.0000e+00,  0.0000e+00,  ...,  0.0000e+00,\n",
       "            0.0000e+00,  0.0000e+00],\n",
       "          [ 0.0000e+00,  0.0000e+00,  0.0000e+00,  ...,  0.0000e+00,\n",
       "            0.0000e+00,  0.0000e+00]],\n",
       "\n",
       "         [[ 0.0000e+00,  0.0000e+00,  0.0000e+00,  ...,  0.0000e+00,\n",
       "            0.0000e+00,  0.0000e+00],\n",
       "          [ 0.0000e+00,  0.0000e+00,  0.0000e+00,  ...,  0.0000e+00,\n",
       "            0.0000e+00,  0.0000e+00],\n",
       "          [ 0.0000e+00,  0.0000e+00,  0.0000e+00,  ...,  0.0000e+00,\n",
       "            0.0000e+00,  0.0000e+00],\n",
       "          ...,\n",
       "          [ 0.0000e+00,  0.0000e+00,  0.0000e+00,  ...,  0.0000e+00,\n",
       "            0.0000e+00,  0.0000e+00],\n",
       "          [ 0.0000e+00,  0.0000e+00,  0.0000e+00,  ...,  0.0000e+00,\n",
       "            0.0000e+00,  0.0000e+00],\n",
       "          [ 0.0000e+00,  0.0000e+00,  0.0000e+00,  ...,  0.0000e+00,\n",
       "            0.0000e+00,  0.0000e+00]]],\n",
       "\n",
       "\n",
       "        [[[ 0.0000e+00,  0.0000e+00,  0.0000e+00,  ...,  0.0000e+00,\n",
       "            0.0000e+00,  0.0000e+00],\n",
       "          [ 0.0000e+00,  0.0000e+00,  0.0000e+00,  ...,  0.0000e+00,\n",
       "            0.0000e+00,  0.0000e+00],\n",
       "          [ 0.0000e+00,  0.0000e+00,  0.0000e+00,  ...,  0.0000e+00,\n",
       "            0.0000e+00,  0.0000e+00],\n",
       "          ...,\n",
       "          [ 0.0000e+00,  0.0000e+00,  0.0000e+00,  ...,  0.0000e+00,\n",
       "            0.0000e+00,  0.0000e+00],\n",
       "          [ 0.0000e+00,  0.0000e+00,  0.0000e+00,  ...,  0.0000e+00,\n",
       "            0.0000e+00,  0.0000e+00],\n",
       "          [ 0.0000e+00,  0.0000e+00,  0.0000e+00,  ...,  0.0000e+00,\n",
       "            0.0000e+00,  0.0000e+00]],\n",
       "\n",
       "         [[ 0.0000e+00,  0.0000e+00,  0.0000e+00,  ...,  0.0000e+00,\n",
       "            0.0000e+00,  0.0000e+00],\n",
       "          [ 0.0000e+00,  0.0000e+00,  0.0000e+00,  ...,  0.0000e+00,\n",
       "            0.0000e+00,  0.0000e+00],\n",
       "          [ 0.0000e+00,  0.0000e+00,  0.0000e+00,  ...,  0.0000e+00,\n",
       "            0.0000e+00,  0.0000e+00],\n",
       "          ...,\n",
       "          [ 0.0000e+00,  0.0000e+00,  0.0000e+00,  ...,  0.0000e+00,\n",
       "            0.0000e+00,  0.0000e+00],\n",
       "          [ 0.0000e+00,  0.0000e+00,  0.0000e+00,  ...,  0.0000e+00,\n",
       "            0.0000e+00,  0.0000e+00],\n",
       "          [ 0.0000e+00,  0.0000e+00,  0.0000e+00,  ...,  0.0000e+00,\n",
       "            0.0000e+00,  0.0000e+00]],\n",
       "\n",
       "         [[ 0.0000e+00,  0.0000e+00,  0.0000e+00,  ...,  0.0000e+00,\n",
       "            0.0000e+00,  0.0000e+00],\n",
       "          [ 0.0000e+00,  0.0000e+00,  0.0000e+00,  ...,  0.0000e+00,\n",
       "            0.0000e+00,  0.0000e+00],\n",
       "          [ 0.0000e+00,  0.0000e+00,  0.0000e+00,  ...,  0.0000e+00,\n",
       "            0.0000e+00,  0.0000e+00],\n",
       "          ...,\n",
       "          [ 0.0000e+00,  0.0000e+00,  0.0000e+00,  ...,  0.0000e+00,\n",
       "            0.0000e+00,  0.0000e+00],\n",
       "          [ 0.0000e+00,  0.0000e+00,  0.0000e+00,  ...,  0.0000e+00,\n",
       "            0.0000e+00,  0.0000e+00],\n",
       "          [ 0.0000e+00,  0.0000e+00,  0.0000e+00,  ...,  0.0000e+00,\n",
       "            0.0000e+00,  0.0000e+00]]]], device='cuda:0')"
      ]
     },
     "execution_count": 169,
     "metadata": {},
     "output_type": "execute_result"
    }
   ],
   "source": [
    "deltas.data.add(ss,sdir)"
   ]
  },
  {
   "cell_type": "markdown",
   "id": "4cf68bff",
   "metadata": {},
   "source": [
    "# INPUT OFFSET?"
   ]
  },
  {
   "cell_type": "code",
   "execution_count": 604,
   "id": "16c41d32",
   "metadata": {},
   "outputs": [],
   "source": [
    "def get_dataset_cifar_noaug():\n",
    "    \"\"\"Returns (ds_train, ds_test) with augmentations on training set.\n",
    "    \"\"\"\n",
    "    T = torchvision.transforms\n",
    "    aug_pad = 4\n",
    "    aug_dim = 32 + aug_pad * 2\n",
    "    ds_train = torchvision.datasets.CIFAR10('CIFAR10_PATH', train=True,\n",
    "            transform=T.Compose([\n",
    "                T.ToTensor(),]))\n",
    "    ds_test = torchvision.datasets.CIFAR10('CIFAR10_PATH', train=False,\n",
    "            transform=torchvision.transforms.ToTensor())\n",
    "    return ds_train, ds_test"
   ]
  },
  {
   "cell_type": "code",
   "execution_count": 605,
   "id": "7007cedf",
   "metadata": {},
   "outputs": [],
   "source": [
    "train, test=get_dataset_cifar_noaug()"
   ]
  },
  {
   "cell_type": "code",
   "execution_count": 558,
   "id": "d5419899",
   "metadata": {},
   "outputs": [],
   "source": [
    "MODEL_INPUT_OFFSET = [[0.4914, 0.4822, 0.4465], [0.247, 0.243, 0.261]]"
   ]
  },
  {
   "cell_type": "code",
   "execution_count": 615,
   "id": "16eaff8e",
   "metadata": {},
   "outputs": [
    {
     "name": "stdout",
     "output_type": "stream",
     "text": [
      "channel0 :  tensor([0.4914])\n"
     ]
    }
   ],
   "source": [
    "total_mean=torch.Tensor([0])\n",
    "for i in range(50000):\n",
    "    total_mean=total_mean+train[i][0][0].mean()\n",
    "    #print(train[i][0][0].mean())\n",
    "print('channel0 : ', total_mean/50000)"
   ]
  },
  {
   "cell_type": "code",
   "execution_count": 618,
   "id": "40f6458e",
   "metadata": {
    "scrolled": true
   },
   "outputs": [
    {
     "name": "stdout",
     "output_type": "stream",
     "text": [
      "channel0 :  tensor([0.4822])\n"
     ]
    }
   ],
   "source": [
    "total_mean2=torch.Tensor([0])\n",
    "for i in range(50000):\n",
    "    total_mean2=total_mean2+train[i][0][1].mean()\n",
    "    #print(train[i][0][0].mean())\n",
    "print('channel0 : ', total_mean2/50000)"
   ]
  },
  {
   "cell_type": "code",
   "execution_count": 619,
   "id": "330953c1",
   "metadata": {
    "scrolled": true
   },
   "outputs": [
    {
     "name": "stdout",
     "output_type": "stream",
     "text": [
      "channel0 :  tensor([0.4465])\n"
     ]
    }
   ],
   "source": [
    "total_mean3=torch.Tensor([0])\n",
    "for i in range(50000):\n",
    "    total_mean3=total_mean3+train[i][0][2].mean()\n",
    "    #print(train[i][0][0].mean())\n",
    "print('channel0 : ', total_mean3/50000)"
   ]
  },
  {
   "cell_type": "code",
   "execution_count": 651,
   "id": "205ab16b",
   "metadata": {},
   "outputs": [],
   "source": [
    "base=torch.zeros([50000, 3, 32, 32])\n",
    "\n",
    "for i in range(50000):\n",
    "    base[i]=train[i][0]\n",
    "    if i%1000==0:\n",
    "        print(i)"
   ]
  },
  {
   "cell_type": "code",
   "execution_count": 662,
   "id": "34f0921d",
   "metadata": {},
   "outputs": [
    {
     "name": "stdout",
     "output_type": "stream",
     "text": [
      "channel0 :  tensor(0.2470)\n",
      "channel1 :  tensor(0.2435)\n",
      "channel2 :  tensor(0.2616)\n"
     ]
    }
   ],
   "source": [
    "print('channel0 : ', base[:, 0, :, :].var().sqrt())\n",
    "print('channel1 : ', base[:, 1, :, :].var().sqrt())\n",
    "print('channel2 : ', base[:, 2, :, :].var().sqrt())"
   ]
  },
  {
   "cell_type": "markdown",
   "id": "d5a77b6b",
   "metadata": {},
   "source": [
    "### 결론 : Offset은 Train과 맞춘다. 그런데, 이는 다른 dataset도 얼마 차이 안 날텐데;;  \n",
    "[[0.3006, 0.2956, 0.2926], [0.2196, 0.2133, 0.2098]]"
   ]
  },
  {
   "cell_type": "code",
   "execution_count": null,
   "id": "0eef6a84",
   "metadata": {},
   "outputs": [],
   "source": [
    "[[0.3006, 0.2956, 0.2926], [0.2196, 0.2133, 0.2098]]"
   ]
  },
  {
   "cell_type": "code",
   "execution_count": 666,
   "id": "1d6410ed",
   "metadata": {},
   "outputs": [],
   "source": [
    "ds_train, ds_test=_get_dataset()"
   ]
  },
  {
   "cell_type": "code",
   "execution_count": 667,
   "id": "6f3a0aac",
   "metadata": {},
   "outputs": [
    {
     "data": {
      "text/plain": [
       "Dataset ImageFolder\n",
       "    Number of datapoints: 133641\n",
       "    Root location: ../BDD100K_MOT2020_image/bdd100k/images/track/train_av\n",
       "    StandardTransform\n",
       "Transform: ToTensor()"
      ]
     },
     "execution_count": 667,
     "metadata": {},
     "output_type": "execute_result"
    }
   ],
   "source": [
    "ds_train"
   ]
  },
  {
   "cell_type": "code",
   "execution_count": 668,
   "id": "e867b072",
   "metadata": {},
   "outputs": [
    {
     "name": "stdout",
     "output_type": "stream",
     "text": [
      "0\n",
      "5000\n",
      "10000\n",
      "15000\n",
      "20000\n",
      "25000\n",
      "30000\n",
      "35000\n",
      "40000\n",
      "45000\n",
      "50000\n",
      "55000\n",
      "60000\n",
      "65000\n",
      "70000\n",
      "75000\n",
      "80000\n",
      "85000\n",
      "90000\n",
      "95000\n",
      "100000\n",
      "105000\n",
      "110000\n",
      "115000\n",
      "120000\n",
      "125000\n",
      "130000\n"
     ]
    }
   ],
   "source": [
    "base_av=torch.zeros([133641, 3, 32, 32])\n",
    "\n",
    "for i in range(133641):\n",
    "    base_av[i]=ds_train[i][0]\n",
    "    if i%5000==0:\n",
    "        print(i)"
   ]
  },
  {
   "cell_type": "code",
   "execution_count": 669,
   "id": "fd4d16bd",
   "metadata": {},
   "outputs": [
    {
     "name": "stdout",
     "output_type": "stream",
     "text": [
      "channel0 :  tensor(0.3006)\n",
      "channel1 :  tensor(0.2956)\n",
      "channel2 :  tensor(0.2926)\n"
     ]
    }
   ],
   "source": [
    "print('channel0 : ', base_av[:, 0, :, :].mean())\n",
    "print('channel1 : ', base_av[:, 1, :, :].mean())\n",
    "print('channel2 : ', base_av[:, 2, :, :].mean())"
   ]
  },
  {
   "cell_type": "code",
   "execution_count": 670,
   "id": "c4914041",
   "metadata": {},
   "outputs": [
    {
     "name": "stdout",
     "output_type": "stream",
     "text": [
      "channel0 :  tensor(0.2196)\n",
      "channel1 :  tensor(0.2133)\n",
      "channel2 :  tensor(0.2098)\n"
     ]
    }
   ],
   "source": [
    "print('channel0 : ', base_av[:, 0, :, :].var().sqrt())\n",
    "print('channel1 : ', base_av[:, 1, :, :].var().sqrt())\n",
    "print('channel2 : ', base_av[:, 2, :, :].var().sqrt())"
   ]
  },
  {
   "cell_type": "code",
   "execution_count": null,
   "id": "d8ddf935",
   "metadata": {},
   "outputs": [],
   "source": [
    "[[0.3006, 0.2956, 0.2926], [0.2196, 0.2133, 0.2098]]"
   ]
  },
  {
   "cell_type": "markdown",
   "id": "e6278582",
   "metadata": {},
   "source": [
    "# 0610(Offset)"
   ]
  },
  {
   "cell_type": "code",
   "execution_count": 4,
   "id": "34074d53",
   "metadata": {},
   "outputs": [],
   "source": [
    "train_root='../BDD100K_MOT2020_image/bdd100k/images/track/final_train_av' # 0610\n",
    "test_root='../BDD100K_MOT2020_image/bdd100k/images/track/final_test_av' # 0610"
   ]
  },
  {
   "cell_type": "code",
   "execution_count": 5,
   "id": "d5a817e4",
   "metadata": {},
   "outputs": [],
   "source": [
    "def _get_dataset():\n",
    "    \n",
    "    \n",
    "    \"\"\"Returns (ds_train, ds_test) with augmentations on training set.\n",
    "    \"\"\"\n",
    "    T = torchvision.transforms\n",
    "        \n",
    "    ds_train = torchvision.datasets.ImageFolder(train_root, \n",
    "            transform=T.ToTensor())\n",
    "    ds_test = torchvision.datasets.ImageFolder(test_root, \n",
    "            transform=T.ToTensor())\n",
    "    \n",
    "    return ds_train, ds_test"
   ]
  },
  {
   "cell_type": "code",
   "execution_count": 6,
   "id": "408c94c4",
   "metadata": {},
   "outputs": [],
   "source": [
    "ds_train, ds_test=_get_dataset()"
   ]
  },
  {
   "cell_type": "code",
   "execution_count": 12,
   "id": "00943701",
   "metadata": {},
   "outputs": [],
   "source": [
    "import os"
   ]
  },
  {
   "cell_type": "code",
   "execution_count": 14,
   "id": "0571466c",
   "metadata": {},
   "outputs": [],
   "source": [
    "import matplotlib.pyplot as plt"
   ]
  },
  {
   "cell_type": "code",
   "execution_count": 16,
   "id": "b491893a",
   "metadata": {},
   "outputs": [],
   "source": [
    "import numpy as np"
   ]
  },
  {
   "cell_type": "code",
   "execution_count": 24,
   "id": "35cecd68",
   "metadata": {
    "scrolled": true
   },
   "outputs": [
    {
     "data": {
      "text/plain": [
       "['.ipynb_checkpoints',\n",
       " 'bicycle',\n",
       " 'bus',\n",
       " 'car',\n",
       " 'motorcycle',\n",
       " 'other person',\n",
       " 'other vehicle',\n",
       " 'pedestrian',\n",
       " 'rider',\n",
       " 'truck']"
      ]
     },
     "execution_count": 24,
     "metadata": {},
     "output_type": "execute_result"
    }
   ],
   "source": [
    "ds_train.classes"
   ]
  },
  {
   "cell_type": "code",
   "execution_count": 9,
   "id": "2ad7e4e4",
   "metadata": {},
   "outputs": [
    {
     "data": {
      "text/plain": [
       "Dataset ImageFolder\n",
       "    Number of datapoints: 90000\n",
       "    Root location: ../BDD100K_MOT2020_image/bdd100k/images/track/final_train_av\n",
       "    StandardTransform\n",
       "Transform: ToTensor()"
      ]
     },
     "execution_count": 9,
     "metadata": {},
     "output_type": "execute_result"
    }
   ],
   "source": [
    "ds_train"
   ]
  },
  {
   "cell_type": "code",
   "execution_count": 16,
   "id": "9b657e8a",
   "metadata": {},
   "outputs": [
    {
     "data": {
      "text/plain": [
       "torch.Size([3, 32, 32])"
      ]
     },
     "execution_count": 16,
     "metadata": {},
     "output_type": "execute_result"
    }
   ],
   "source": [
    "ds_train[1][0].shape"
   ]
  },
  {
   "cell_type": "code",
   "execution_count": 19,
   "id": "c8faed44",
   "metadata": {},
   "outputs": [
    {
     "name": "stdout",
     "output_type": "stream",
     "text": [
      "0 processed .. \n",
      "10000 processed .. \n",
      "20000 processed .. \n",
      "30000 processed .. \n",
      "40000 processed .. \n",
      "50000 processed .. \n",
      "60000 processed .. \n",
      "70000 processed .. \n",
      "80000 processed .. \n"
     ]
    }
   ],
   "source": [
    "base_av=torch.zeros([90000, 3, 32, 32])\n",
    "\n",
    "for i in range(90000):\n",
    "    base_av[i]=ds_train[i][0]\n",
    "    if i%10000==0:\n",
    "        print(i, 'processed .. ')"
   ]
  },
  {
   "cell_type": "code",
   "execution_count": 22,
   "id": "27cea5f1",
   "metadata": {},
   "outputs": [
    {
     "name": "stdout",
     "output_type": "stream",
     "text": [
      "channel0 :  tensor(0.3040)\n",
      "channel1 :  tensor(0.3043)\n",
      "channel2 :  tensor(0.2983)\n"
     ]
    }
   ],
   "source": [
    "print('channel0 : ', base_av[:, 0, :, :].mean())\n",
    "print('channel1 : ', base_av[:, 1, :, :].mean())\n",
    "print('channel2 : ', base_av[:, 2, :, :].mean())"
   ]
  },
  {
   "cell_type": "code",
   "execution_count": 23,
   "id": "36deff14",
   "metadata": {},
   "outputs": [
    {
     "name": "stdout",
     "output_type": "stream",
     "text": [
      "channel0 :  tensor(0.2154)\n",
      "channel1 :  tensor(0.2110)\n",
      "channel2 :  tensor(0.2051)\n"
     ]
    }
   ],
   "source": [
    "print('channel0 : ', base_av[:, 0, :, :].var().sqrt())\n",
    "print('channel1 : ', base_av[:, 1, :, :].var().sqrt())\n",
    "print('channel2 : ', base_av[:, 2, :, :].var().sqrt())"
   ]
  },
  {
   "cell_type": "code",
   "execution_count": null,
   "id": "d8ac866d",
   "metadata": {},
   "outputs": [],
   "source": [
    "[[0.3040, 0.3043, 0.2983], [0.2154, 0.2110, 0.2051]]"
   ]
  },
  {
   "cell_type": "code",
   "execution_count": null,
   "id": "a4ba29e0",
   "metadata": {},
   "outputs": [],
   "source": []
  },
  {
   "cell_type": "code",
   "execution_count": null,
   "id": "927cbd4e",
   "metadata": {},
   "outputs": [],
   "source": []
  },
  {
   "cell_type": "code",
   "execution_count": null,
   "id": "b9c1f1ca",
   "metadata": {},
   "outputs": [],
   "source": []
  },
  {
   "cell_type": "code",
   "execution_count": null,
   "id": "8d1926f2",
   "metadata": {},
   "outputs": [],
   "source": []
  },
  {
   "cell_type": "code",
   "execution_count": null,
   "id": "95b07cc6",
   "metadata": {},
   "outputs": [],
   "source": []
  },
  {
   "cell_type": "markdown",
   "id": "c1d92555",
   "metadata": {},
   "source": [
    "## 기타함수"
   ]
  },
  {
   "cell_type": "code",
   "execution_count": null,
   "id": "6fe6eff3",
   "metadata": {},
   "outputs": [],
   "source": [
    "def forward(self, x):\n",
    "        x = x - self.input_offset[0].view(1, -1, 1, 1)\n",
    "        x /= self.input_offset[1].view(1, -1, 1, 1)\n",
    "        x = self.pipe(x)\n",
    "        assert x.size(2) == 1 and x.size(3) == 1, x.size()\n",
    "        return x[:, :, 0, 0]"
   ]
  },
  {
   "cell_type": "code",
   "execution_count": null,
   "id": "4845bd2f",
   "metadata": {},
   "outputs": [],
   "source": [
    "from PIL import Image\n",
    "import torch\n",
    "from torch.utils.data import Dataset\n",
    "\n",
    "# fix torch random seed\n",
    "torch.manual_seed(0)\n",
    "\n",
    "class histoCancerDataset(Dataset):\n",
    "    def __init__(self, data_dir, transform, data_type='train'):\n",
    "        # path to images\n",
    "        path2data = os.path.join(data_dir, data_type)\n",
    "\n",
    "        # get a list of images\n",
    "        filenames = os.listdir(path2data)\n",
    "\n",
    "        # get the full path to images\n",
    "        self.full_filenames = [os.path.join(path2data, f) for f in filenames]\n",
    "\n",
    "        # labels are in a csv file named train_labels.csv\n",
    "        csv_filename = data_type + '_labels.csv'\n",
    "        path2csvLabels = os.path.join(data_dir, csv_filename)\n",
    "        labels_df = pd.read_csv(path2csvLabels)\n",
    "\n",
    "        # set data frame index to id\n",
    "        labels_df.set_index('id', inplace=True)\n",
    "\n",
    "        # obtain labels from data frame\n",
    "        self.labels = [labels_df.loc[filename[:-4]].values[0] for filename in filenames]\n",
    "\n",
    "        self.transform = transform\n",
    "\n",
    "    def __len__(self):\n",
    "        # return size of dataset\n",
    "        return len(self.full_filenames)\n",
    "\n",
    "    def __getitem__(self, idx):\n",
    "        # open image, apply transforms and return with label\n",
    "        image = Image.open(self.full_filenames[idx])\n",
    "        image = self.transform(image)\n",
    "        return image, self.labels[idx]\n",
    "\n",
    "# define a simple transformation that only converts a PIL image into PyTorch tensors\n",
    "import torchvision.transforms as transforms\n",
    "data_transformer = transforms.Compose([transforms.ToTensor()])\n",
    "\n",
    "# define an object of the custom dataset for the train folder\n",
    "data_dir ='/content/cookbook/MyDrive/data'\n",
    "histo_dataset = histoCancerDataset(data_dir, data_transformer, 'train')\n",
    "\n",
    "print(len(histo_dataset))"
   ]
  },
  {
   "cell_type": "code",
   "execution_count": null,
   "id": "8b945f88",
   "metadata": {},
   "outputs": [],
   "source": []
  },
  {
   "cell_type": "code",
   "execution_count": null,
   "id": "37f69db7",
   "metadata": {},
   "outputs": [],
   "source": []
  },
  {
   "cell_type": "code",
   "execution_count": 2,
   "id": "0cedbb59",
   "metadata": {},
   "outputs": [],
   "source": [
    "def _get_dataset():\n",
    "    \"\"\"Returns (ds_train, ds_test) with augmentations on training set.\n",
    "    \"\"\"\n",
    "    T = torchvision.transforms\n",
    "    aug_pad = 4\n",
    "    aug_dim = 32 + aug_pad * 2\n",
    "    ds_train = torchvision.datasets.CIFAR10(cifar10_path, train=True,\n",
    "            transform=T.Compose([\n",
    "                T.ToTensor(),\n",
    "                T.Lambda(lambda tensor:\n",
    "                    torch.nn.functional.pad(\n",
    "                        tensor.view(1, 3, 32, 32),\n",
    "                        (aug_pad,)*4,\n",
    "                        'replicate').view(3, aug_dim, aug_dim)),\n",
    "                T.ToPILImage(),\n",
    "                T.RandomHorizontalFlip(),\n",
    "                T.RandomCrop((32, 32)),\n",
    "                T.ToTensor(),\n",
    "            ]))\n",
    "    ds_test = torchvision.datasets.CIFAR10(cifar10_path, train=False,\n",
    "            transform=torchvision.transforms.ToTensor())\n",
    "    return ds_train, ds_test\n",
    "\n",
    "\n",
    "def _model_evaluate(m, ds_loader):\n",
    "    device = next(m.parameters()).device\n",
    "    m.eval()\n",
    "    stats = {'accuracy': 0.}\n",
    "    n = 0\n",
    "    for batch in ds_loader:\n",
    "        images, labels = batch\n",
    "        images = images.to(device)\n",
    "        labels = labels.to(device)\n",
    "        n += images.size(0)\n",
    "\n",
    "        preds = m(images)\n",
    "        preds = preds.argmax(1)\n",
    "        stats['accuracy'] += (preds == labels).float().sum().item()\n",
    "\n",
    "        if ONE_BATCH_ONLY:\n",
    "            break\n",
    "    stats['accuracy'] /= n\n",
    "    return stats\n",
    "\n",
    "\n",
    "def _model_robust_get_grads(guesses, images, labels, train):\n",
    "    \"\"\"Get the gradients of guesses with respect to images, according to K=1\n",
    "    and ROBUST_ZETA.\n",
    "\n",
    "    ``train`` specifies whether or not the model is in training mode; if it is,\n",
    "    the gradient tree will be retained.\n",
    "    \"\"\"\n",
    "    to_smooth = None  # Output, or combination of outputs, for gradient\n",
    "\n",
    "    # Select randomly smoothed nodes\n",
    "    smg = torch.rand(guesses.size(0), guesses.size(1),\n",
    "            device=guesses.device)\n",
    "    smg = smg.argmax(1)\n",
    "    sfair = guesses.gather(1, smg.unsqueeze(1))[:, 0]\n",
    "\n",
    "    # Determine if any should be smoothed in tandem\n",
    "    if ROBUST_ZETA > 0:\n",
    "        # Determine which, if any, should be unfair\n",
    "        unfair = (torch.rand(guesses.size(0), device=guesses.device)\n",
    "                < ROBUST_ZETA).float()\n",
    "\n",
    "        # Select unfairly smoothed\n",
    "        unfair_real = guesses.gather(1, labels.unsqueeze(1))[:, 0]\n",
    "        unfair_max = guesses.clone()\n",
    "        unfair_max.scatter_(1, labels.unsqueeze(1),\n",
    "                unfair_max.detach().min() - 1)\n",
    "        sunfair = (unfair_real - unfair_max.max(1)[0])\n",
    "\n",
    "        to_smooth = unfair * sunfair + (1 - unfair) * sfair\n",
    "    else:\n",
    "        # Smooth only single outputs\n",
    "        to_smooth = sfair\n",
    "\n",
    "    # Calculate gradients of input with respect to to_smooth\n",
    "    grads = torch.autograd.grad(to_smooth.sum(), images, create_graph=train)[0]\n",
    "    return grads\n",
    "\n",
    "\n",
    "def _model_robust_get_psi(robust_integration):\n",
    "    return ROBUST_ADAPT_PSI_0 * math.exp(ROBUST_ADAPT_PSI * robust_integration)\n",
    "\n",
    "\n",
    "def _model_save(path, m, training_options):\n",
    "    torch.save({'model_params': m.state_dict(),\n",
    "            'training_options': training_options}, path)\n",
    "\n",
    "\n",
    "def _model_load(path):\n",
    "    d = torch.load(path)\n",
    "    m = model.Model(d['training_options'])\n",
    "    m.load_state_dict(d['model_params'])\n",
    "    return m"
   ]
  },
  {
   "cell_type": "markdown",
   "id": "896af46f",
   "metadata": {},
   "source": [
    "\n",
    "\n",
    "\n",
    "\n",
    "\n",
    "\n",
    "\n",
    "\n",
    "\n",
    "\n",
    "\n",
    "\n",
    "\n",
    "\n",
    "\n",
    "\n",
    "\n",
    "\n",
    "\n",
    "\n",
    "\n",
    "\n",
    "\n",
    "\n"
   ]
  }
 ],
 "metadata": {
  "kernelspec": {
   "display_name": "Python 3",
   "language": "python",
   "name": "python3"
  },
  "language_info": {
   "codemirror_mode": {
    "name": "ipython",
    "version": 3
   },
   "file_extension": ".py",
   "mimetype": "text/x-python",
   "name": "python",
   "nbconvert_exporter": "python",
   "pygments_lexer": "ipython3",
   "version": "3.7.10"
  }
 },
 "nbformat": 4,
 "nbformat_minor": 5
}
